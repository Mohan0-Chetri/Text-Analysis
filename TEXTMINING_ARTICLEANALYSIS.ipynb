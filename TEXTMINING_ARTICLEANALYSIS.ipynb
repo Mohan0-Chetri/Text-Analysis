{
  "nbformat": 4,
  "nbformat_minor": 0,
  "metadata": {
    "colab": {
      "name": "TEXTMINING-ARTICLEANALYSIS.ipynb",
      "provenance": [],
      "collapsed_sections": []
    },
    "kernelspec": {
      "name": "python3",
      "display_name": "Python 3"
    },
    "language_info": {
      "name": "python"
    }
  },
  "cells": [
    {
      "cell_type": "code",
      "execution_count": 1,
      "metadata": {
        "id": "mFcGlvloIlrp",
        "colab": {
          "base_uri": "https://localhost:8080/"
        },
        "outputId": "256b0e3b-7c11-4f8d-f1a2-3eb7c977cef7"
      },
      "outputs": [
        {
          "output_type": "stream",
          "name": "stderr",
          "text": [
            "[nltk_data] Downloading package punkt to /root/nltk_data...\n",
            "[nltk_data]   Package punkt is already up-to-date!\n"
          ]
        },
        {
          "output_type": "execute_result",
          "data": {
            "text/plain": [
              "True"
            ]
          },
          "metadata": {},
          "execution_count": 1
        }
      ],
      "source": [
        "import pandas as pd\n",
        "import re\n",
        "import numpy as np\n",
        "from nltk.tokenize import sent_tokenize, word_tokenize\n",
        "import nltk\n",
        "nltk.download('punkt')"
      ]
    },
    {
      "cell_type": "code",
      "source": [
        "df=pd.read_csv(\"/content/CleanArticles.csv\")"
      ],
      "metadata": {
        "id": "CvdU1_B8JEmO"
      },
      "execution_count": 2,
      "outputs": []
    },
    {
      "cell_type": "markdown",
      "source": [
        "**## DATA CLEANING**"
      ],
      "metadata": {
        "id": "-oUk4PZgKKwX"
      }
    },
    {
      "cell_type": "code",
      "source": [
        "df.columns"
      ],
      "metadata": {
        "colab": {
          "base_uri": "https://localhost:8080/"
        },
        "id": "8a1s5J7tJQTx",
        "outputId": "63cc30a6-da0f-443c-a1f7-1d6858d55e0d"
      },
      "execution_count": 3,
      "outputs": [
        {
          "output_type": "execute_result",
          "data": {
            "text/plain": [
              "Index(['Unnamed: 0', 'URL_ID', 'Article'], dtype='object')"
            ]
          },
          "metadata": {},
          "execution_count": 3
        }
      ]
    },
    {
      "cell_type": "code",
      "source": [
        "df.drop([\"Unnamed: 0\"], axis = 1,inplace=True) #DROPPING UNNAMED COLUM"
      ],
      "metadata": {
        "id": "EQPlIUN1JRSq"
      },
      "execution_count": 4,
      "outputs": []
    },
    {
      "cell_type": "code",
      "source": [
        "df"
      ],
      "metadata": {
        "colab": {
          "base_uri": "https://localhost:8080/",
          "height": 424
        },
        "id": "FVO-t-OaJi-R",
        "outputId": "52956b33-0109-4561-b74e-af5807a9b5cd"
      },
      "execution_count": 5,
      "outputs": [
        {
          "output_type": "execute_result",
          "data": {
            "text/plain": [
              "     URL_ID                                            Article\n",
              "0         1  When people hear AI they often think about sen...\n",
              "1         2  With increasing computing power and more data,...\n",
              "2         3  If you were a fan of the 90’s film Clueless ba...\n",
              "3         4  Understanding exactly how data is ingested, an...\n",
              "4         5  From the stone age to the modern world, from h...\n",
              "..      ...                                                ...\n",
              "165     167  Can academia, researchers, decision makers and...\n",
              "166     168  IntroductionInventory planning is a fundamenta...\n",
              "167     169  1. The ProblemInsider threat detection specifi...\n",
              "168     170  If we talk in terms of our general life, Exfil...\n",
              "169     171  Some vendors (fruit and vegetable sellers) beg...\n",
              "\n",
              "[170 rows x 2 columns]"
            ],
            "text/html": [
              "\n",
              "  <div id=\"df-7ef829ab-0818-44c8-b642-4dd1e579e996\">\n",
              "    <div class=\"colab-df-container\">\n",
              "      <div>\n",
              "<style scoped>\n",
              "    .dataframe tbody tr th:only-of-type {\n",
              "        vertical-align: middle;\n",
              "    }\n",
              "\n",
              "    .dataframe tbody tr th {\n",
              "        vertical-align: top;\n",
              "    }\n",
              "\n",
              "    .dataframe thead th {\n",
              "        text-align: right;\n",
              "    }\n",
              "</style>\n",
              "<table border=\"1\" class=\"dataframe\">\n",
              "  <thead>\n",
              "    <tr style=\"text-align: right;\">\n",
              "      <th></th>\n",
              "      <th>URL_ID</th>\n",
              "      <th>Article</th>\n",
              "    </tr>\n",
              "  </thead>\n",
              "  <tbody>\n",
              "    <tr>\n",
              "      <th>0</th>\n",
              "      <td>1</td>\n",
              "      <td>When people hear AI they often think about sen...</td>\n",
              "    </tr>\n",
              "    <tr>\n",
              "      <th>1</th>\n",
              "      <td>2</td>\n",
              "      <td>With increasing computing power and more data,...</td>\n",
              "    </tr>\n",
              "    <tr>\n",
              "      <th>2</th>\n",
              "      <td>3</td>\n",
              "      <td>If you were a fan of the 90’s film Clueless ba...</td>\n",
              "    </tr>\n",
              "    <tr>\n",
              "      <th>3</th>\n",
              "      <td>4</td>\n",
              "      <td>Understanding exactly how data is ingested, an...</td>\n",
              "    </tr>\n",
              "    <tr>\n",
              "      <th>4</th>\n",
              "      <td>5</td>\n",
              "      <td>From the stone age to the modern world, from h...</td>\n",
              "    </tr>\n",
              "    <tr>\n",
              "      <th>...</th>\n",
              "      <td>...</td>\n",
              "      <td>...</td>\n",
              "    </tr>\n",
              "    <tr>\n",
              "      <th>165</th>\n",
              "      <td>167</td>\n",
              "      <td>Can academia, researchers, decision makers and...</td>\n",
              "    </tr>\n",
              "    <tr>\n",
              "      <th>166</th>\n",
              "      <td>168</td>\n",
              "      <td>IntroductionInventory planning is a fundamenta...</td>\n",
              "    </tr>\n",
              "    <tr>\n",
              "      <th>167</th>\n",
              "      <td>169</td>\n",
              "      <td>1. The ProblemInsider threat detection specifi...</td>\n",
              "    </tr>\n",
              "    <tr>\n",
              "      <th>168</th>\n",
              "      <td>170</td>\n",
              "      <td>If we talk in terms of our general life, Exfil...</td>\n",
              "    </tr>\n",
              "    <tr>\n",
              "      <th>169</th>\n",
              "      <td>171</td>\n",
              "      <td>Some vendors (fruit and vegetable sellers) beg...</td>\n",
              "    </tr>\n",
              "  </tbody>\n",
              "</table>\n",
              "<p>170 rows × 2 columns</p>\n",
              "</div>\n",
              "      <button class=\"colab-df-convert\" onclick=\"convertToInteractive('df-7ef829ab-0818-44c8-b642-4dd1e579e996')\"\n",
              "              title=\"Convert this dataframe to an interactive table.\"\n",
              "              style=\"display:none;\">\n",
              "        \n",
              "  <svg xmlns=\"http://www.w3.org/2000/svg\" height=\"24px\"viewBox=\"0 0 24 24\"\n",
              "       width=\"24px\">\n",
              "    <path d=\"M0 0h24v24H0V0z\" fill=\"none\"/>\n",
              "    <path d=\"M18.56 5.44l.94 2.06.94-2.06 2.06-.94-2.06-.94-.94-2.06-.94 2.06-2.06.94zm-11 1L8.5 8.5l.94-2.06 2.06-.94-2.06-.94L8.5 2.5l-.94 2.06-2.06.94zm10 10l.94 2.06.94-2.06 2.06-.94-2.06-.94-.94-2.06-.94 2.06-2.06.94z\"/><path d=\"M17.41 7.96l-1.37-1.37c-.4-.4-.92-.59-1.43-.59-.52 0-1.04.2-1.43.59L10.3 9.45l-7.72 7.72c-.78.78-.78 2.05 0 2.83L4 21.41c.39.39.9.59 1.41.59.51 0 1.02-.2 1.41-.59l7.78-7.78 2.81-2.81c.8-.78.8-2.07 0-2.86zM5.41 20L4 18.59l7.72-7.72 1.47 1.35L5.41 20z\"/>\n",
              "  </svg>\n",
              "      </button>\n",
              "      \n",
              "  <style>\n",
              "    .colab-df-container {\n",
              "      display:flex;\n",
              "      flex-wrap:wrap;\n",
              "      gap: 12px;\n",
              "    }\n",
              "\n",
              "    .colab-df-convert {\n",
              "      background-color: #E8F0FE;\n",
              "      border: none;\n",
              "      border-radius: 50%;\n",
              "      cursor: pointer;\n",
              "      display: none;\n",
              "      fill: #1967D2;\n",
              "      height: 32px;\n",
              "      padding: 0 0 0 0;\n",
              "      width: 32px;\n",
              "    }\n",
              "\n",
              "    .colab-df-convert:hover {\n",
              "      background-color: #E2EBFA;\n",
              "      box-shadow: 0px 1px 2px rgba(60, 64, 67, 0.3), 0px 1px 3px 1px rgba(60, 64, 67, 0.15);\n",
              "      fill: #174EA6;\n",
              "    }\n",
              "\n",
              "    [theme=dark] .colab-df-convert {\n",
              "      background-color: #3B4455;\n",
              "      fill: #D2E3FC;\n",
              "    }\n",
              "\n",
              "    [theme=dark] .colab-df-convert:hover {\n",
              "      background-color: #434B5C;\n",
              "      box-shadow: 0px 1px 3px 1px rgba(0, 0, 0, 0.15);\n",
              "      filter: drop-shadow(0px 1px 2px rgba(0, 0, 0, 0.3));\n",
              "      fill: #FFFFFF;\n",
              "    }\n",
              "  </style>\n",
              "\n",
              "      <script>\n",
              "        const buttonEl =\n",
              "          document.querySelector('#df-7ef829ab-0818-44c8-b642-4dd1e579e996 button.colab-df-convert');\n",
              "        buttonEl.style.display =\n",
              "          google.colab.kernel.accessAllowed ? 'block' : 'none';\n",
              "\n",
              "        async function convertToInteractive(key) {\n",
              "          const element = document.querySelector('#df-7ef829ab-0818-44c8-b642-4dd1e579e996');\n",
              "          const dataTable =\n",
              "            await google.colab.kernel.invokeFunction('convertToInteractive',\n",
              "                                                     [key], {});\n",
              "          if (!dataTable) return;\n",
              "\n",
              "          const docLinkHtml = 'Like what you see? Visit the ' +\n",
              "            '<a target=\"_blank\" href=https://colab.research.google.com/notebooks/data_table.ipynb>data table notebook</a>'\n",
              "            + ' to learn more about interactive tables.';\n",
              "          element.innerHTML = '';\n",
              "          dataTable['output_type'] = 'display_data';\n",
              "          await google.colab.output.renderOutput(dataTable, element);\n",
              "          const docLink = document.createElement('div');\n",
              "          docLink.innerHTML = docLinkHtml;\n",
              "          element.appendChild(docLink);\n",
              "        }\n",
              "      </script>\n",
              "    </div>\n",
              "  </div>\n",
              "  "
            ]
          },
          "metadata": {},
          "execution_count": 5
        }
      ]
    },
    {
      "cell_type": "markdown",
      "source": [
        "#INFERING HOW EACH ARTICLES ARE STORED ON DATAFRAME"
      ],
      "metadata": {
        "id": "vSqz_aaL3Ojd"
      }
    },
    {
      "cell_type": "code",
      "source": [
        "df.Article[0] "
      ],
      "metadata": {
        "colab": {
          "base_uri": "https://localhost:8080/",
          "height": 105
        },
        "id": "EVzhWyx2JtO4",
        "outputId": "a75eafec-415a-425b-88aa-2a0f019a983d"
      },
      "execution_count": 6,
      "outputs": [
        {
          "output_type": "execute_result",
          "data": {
            "text/plain": [
              "'When people hear AI they often think about sentient robots and magic boxes. AI today is much more mundane and simple—but that doesn’t mean it’s not powerful. Another misconception is that high-profile research projects can be applied directly to any business situation. AI done right can create an extreme return on investments (ROIs)—for instance through automation or precise prediction. But it does take thought, time, and proper implementation. We have seen that success and value generated by AI projects are increased when there is a grounded understanding and expectation of what the technology can deliver from the C-suite down.“Artificial Intelligence (AI) is a science and a set of computational technologies that are inspired by—but typically operate quite differently from—the ways people use their nervous systems and bodies to sense, learn, reason and take action.”3 Lately there has been a big rise in the day-to-day use of machines powered by AI. These machines are wired using cross-disciplinary approaches based on mathematics, computer science, statistics, psychology, and more.4 Virtual assistants are becoming more common, most of the web shops predict your purchases, many companies make use of chatbots in their customer service and many companies use algorithms to detect fraud.AI and Deep Learning technology employed in office entry systems will bring proper time tracking of each employee. As this system tries to learn each person with an image processing technology whose data is feed forwarded to a deep learning model where Deep learning isn’t an algorithm per se, but rather a family of algorithms that implements deep networks (many layers). These networks are so deep that new methods of computation, such as graphics processing units (GPUs), are required to train them, in addition to clusters of compute nodes. So using deep learning we can take detect the employee using face and person recognition scan and through which login, logout timing is recorded. Using an AI system we can even identify each employee’s entry time, their working hours, non-working hours by tracking the movement of an employee in the office so that system can predict and report HR for the salary for each employee based on their working hours. Our system can take feed from CCTV to track movements of employees and this system is capable of recognizing a person even he/she is being masked as in this pandemic situation by taking their iris scan. With this system installed inside the office, the following are some of the benefits:1)Compliance/litigation needsFor several countries, regulations insist that the employer must keep documents available that can demonstrate the working hours performed by each employee. In the event of control from the labor inspectorate or a dispute with an employee, the employer must be able to explain and justify the working hours for the company. This can be made easy as our system is tracking employee movements2)Information security needsThis is about monitoring user connection times to detect suspicious access times. In the event where compromised credentials are used to log on at 3 a.m. on a Saturday, a notification on this access could alert the IT team that an attack is possibly underway.3)Employee login logout softwareTo manage and react to employees’ attendance, overtime thresholds, productivity, and suspicious access times, our system records and stores detailed and interactive reporting on users’ connection times. These records allow you to better manage users’ connection times and provide accurate, detailed data required by management.4)If you want to avoid paying overtime, make sure that your employees respect certain working time quotas or even avoid suspicious access. Our system will alert the HR officer about each employee’s office in and out time so that they can accordingly take action.5)Last but not least it reduces human resource needs to keep track of the records and sending the report to HR and HR officials has to check through the report so this system will reduce times and human resource needsWith the use of AI and Deep Learning technologies, we can automate some routines stuff with more functionality which humans need more resources to keep track thereby reducing time spent on manual data entry works rather companies can think of making their position high in the competitive world.Blackcoffer Insights 33: Suriya E, Vellore Institute of Technology'"
            ],
            "application/vnd.google.colaboratory.intrinsic+json": {
              "type": "string"
            }
          },
          "metadata": {},
          "execution_count": 6
        }
      ]
    },
    {
      "cell_type": "markdown",
      "source": [
        "\n",
        "## CONVERTING ALL TEXT TO LOWER CASE"
      ],
      "metadata": {
        "id": "S1oNkdkYKzxK"
      }
    },
    {
      "cell_type": "code",
      "source": [
        "lower_text=[]\n",
        "for words in df['Article']:\n",
        "  lower_text.append(str.lower(words))"
      ],
      "metadata": {
        "id": "urZ-MEaxJxGN"
      },
      "execution_count": 7,
      "outputs": []
    },
    {
      "cell_type": "code",
      "source": [
        "lower_text[0:5]"
      ],
      "metadata": {
        "colab": {
          "base_uri": "https://localhost:8080/"
        },
        "id": "jLeOrX22KCek",
        "outputId": "d733ff20-e589-4bb6-d811-ae958fba63f0"
      },
      "execution_count": 8,
      "outputs": [
        {
          "output_type": "execute_result",
          "data": {
            "text/plain": [
              "['when people hear ai they often think about sentient robots and magic boxes. ai today is much more mundane and simple—but that doesn’t mean it’s not powerful. another misconception is that high-profile research projects can be applied directly to any business situation. ai done right can create an extreme return on investments (rois)—for instance through automation or precise prediction. but it does take thought, time, and proper implementation. we have seen that success and value generated by ai projects are increased when there is a grounded understanding and expectation of what the technology can deliver from the c-suite down.“artificial intelligence (ai) is a science and a set of computational technologies that are inspired by—but typically operate quite differently from—the ways people use their nervous systems and bodies to sense, learn, reason and take action.”3 lately there has been a big rise in the day-to-day use of machines powered by ai. these machines are wired using cross-disciplinary approaches based on mathematics, computer science, statistics, psychology, and more.4 virtual assistants are becoming more common, most of the web shops predict your purchases, many companies make use of chatbots in their customer service and many companies use algorithms to detect fraud.ai and deep learning technology employed in office entry systems will bring proper time tracking of each employee. as this system tries to learn each person with an image processing technology whose data is feed forwarded to a deep learning model where deep learning isn’t an algorithm per se, but rather a family of algorithms that implements deep networks (many layers). these networks are so deep that new methods of computation, such as graphics processing units (gpus), are required to train them, in addition to clusters of compute nodes. so using deep learning we can take detect the employee using face and person recognition scan and through which login, logout timing is recorded. using an ai system we can even identify each employee’s entry time, their working hours, non-working hours by tracking the movement of an employee in the office so that system can predict and report hr for the salary for each employee based on their working hours. our system can take feed from cctv to track movements of employees and this system is capable of recognizing a person even he/she is being masked as in this pandemic situation by taking their iris scan. with this system installed inside the office, the following are some of the benefits:1)compliance/litigation needsfor several countries, regulations insist that the employer must keep documents available that can demonstrate the working hours performed by each employee. in the event of control from the labor inspectorate or a dispute with an employee, the employer must be able to explain and justify the working hours for the company. this can be made easy as our system is tracking employee movements2)information security needsthis is about monitoring user connection times to detect suspicious access times. in the event where compromised credentials are used to log on at 3 a.m. on a saturday, a notification on this access could alert the it team that an attack is possibly underway.3)employee login logout softwareto manage and react to employees’ attendance, overtime thresholds, productivity, and suspicious access times, our system records and stores detailed and interactive reporting on users’ connection times. these records allow you to better manage users’ connection times and provide accurate, detailed data required by management.4)if you want to avoid paying overtime, make sure that your employees respect certain working time quotas or even avoid suspicious access. our system will alert the hr officer about each employee’s office in and out time so that they can accordingly take action.5)last but not least it reduces human resource needs to keep track of the records and sending the report to hr and hr officials has to check through the report so this system will reduce times and human resource needswith the use of ai and deep learning technologies, we can automate some routines stuff with more functionality which humans need more resources to keep track thereby reducing time spent on manual data entry works rather companies can think of making their position high in the competitive world.blackcoffer insights 33: suriya e, vellore institute of technology',\n",
              " 'with increasing computing power and more data, the potential value of algorithms became higher. people and companies saw possibilities to embed these smart systems into their companies to drive strategy and innovation. as the power of algorithms, computing, and amounts of data increased companies started to see an increasing amount of use cases. ai started to become an essential value. companies saw that these systems could move them closer to their customers, drive efficiency, enhance employee experience and capability, automatize tasks, decrease costs and improve revenue. but ai went through some lulls and spikes before it became capable of enabling so many benefits. at a certain point, the general public gave up on ai and machine learning as a whole, which stalled developments and investments.ai uses computer vision and deep learning to achieve these results. computer vision incorporates neural networks that help computers detect objects within shelf images and classify them accurately.deep learning is a new area that is moving machine learning closer to one of its original goals: ai. in deep learning, a computer system is fed a lot of data, which it then observes and analyzes to recognize emergent patterns and trends, ultimately generating appropriate recommendations and predictions.deep learning applications, especially in the field of computer vision, are more than ready for prime time. recently, a neural network architecture won the imagenet challenge by classifying a wide variety of objects – like birds, ships, and cats – into the correct categories more accurately than humans did.back at the store shelf, even subtle differences between objects, poor lighting, reflections, and background clutter can be overcome with these powerful ai applications.our tool recognizes products among thousands of possible retail items and verifies their placement according to the given planogram. this translates into the automation o shelf management activities, centralized monitoring of shelf arrangement over hundreds of branches, and validation of the product, license agreement for suppliers.the use of ml-powered analytics solutions can help businesses forecast inventory demand with high accuracy. systems that rely on machine learning are capable of analyzing a multitude of data points, finding subtle patterns (indicating changes in customer preferences, behavior, or satisfaction), which can be non-obvious to humans. what’s more, these systems don’t require explicit programming as machine learning models learn from data. the more data is fed to them, the better they handle it while deriving meaningful insights.our system will automate manual tasks like gap and price scanning and free up your staff to help shoppers. it increases availability and provides real-time, accurate alerts to restock shelves faster than ever and increase on-shelf availability.it will transform the supply chain. drive supply chain decisions with real-time shelf data to understand actual demand and avoid inaccurate inventory management and comply with price and promotions. automatically detect mismatches at the shelf and avoid customer frustration. our system will harmonize online and offline channels. optimize online order picking and reflect your real availability to the shopper as they make their online orderby this system, if it is implemented in a supermarket, where we can use this application to predict the market price and demand and accordingly we can forecast the demand and take actions in prior and this system can also keep track of the expiry of each perishable products and alerts for them to change it accordingly at the correct time. if some new product is released in the market and that is with great demand, our system will try to analyze where it is placed in the store, if it is not present in the store our system will report to the sales manager to add these new products in the store at a much reachable and visible place for the buyers.blackcoffer insights 33: suriya e, vellore institute of technology',\n",
              " 'if you were a fan of the 90’s film clueless back in the day, then you’ll remember the protagonist, cher horowitz’s amazing virtual wardrobe. she used it to browse her clothing and choose a perfectly coordinated ensemble. this virtual application, which was just the brainchild of a writer wanting to make the protagonist look rich, fashionable, and ahead of her time, ignited a buzz and prospected having an automated style device to make everyday dress-up fun and engagingly time-saving.times have changed and technological advancement today is transforming everything from probabilities to possibilities. we are in the era where, machines not just facilitate our tasks and demands but rather suggest, forecasts, and analyze thus making lives simpler and smarter.with the advent of technology, style suggestions are just a fraction of the big picture that ai has painted in the fashion industry today.what is ai?artificial intelligence is the creation of computer programs capable of performing activities and solving issues that would normally need human intelligence. ai has surged across a variety of industries, with the potential to transform businesses through creative technologies and more effective operational processes.at first, ai automation did not appear to be an appealing tool for fashion leaders to use in an industry focused on creative ability and expression. however, as we enter the hyper-digital era, these apps have the potential to revolutionize enterprises and generate considerable industry growth when compared to competitors that use traditional approaches.some of the most well-known brands in the business are now investing in algorithms that assist buyers to choose designs. a slew of ai-based start-ups is also assisting everyone from retailers to customers in removing the guesswork from the equation.impact on fashionthis article examines how artificial intelligence has impacted key areas of the fashion industry, as well as explores brands that have benefited from its use.ai in apparel designingfashion firms are utilizing technology to better understand client wants and produce better garments thanks to more sophisticated data collection.tommy hilfiger pioneered the “reimagine retail” project, which trains fashion designers with ai design skills in collaboration with ibm. as a result, fashion students could master a variety of technical skills such as natural language processing (nlp) or computer vision. fashion students could learn from thousands of fashion-related photos using ai, which increased their inventiveness and shortened lead times for the fashion firm.ai in the manufacturing processfashion brands are now able to identify fast-changing fashion trends and get the latest fashion accessories to store shelves faster than the “traditional” fashion shop, thanks to ai and machine learning capabilities. as a result, prominent fashion brands such as zara, top shop, and h&m can provide immediate gratification to retail customers by identifying seasonal trends and producing the appropriate quantity of the current items.ai in logisticsai in inventory and supply chain management helps to speed up processes by optimizing routes and lowering logistics and shipping costs. companies use ai to automate logistics and supply chain procedures for speedier delivery or to locate alternate routes for vehicles that have been detoured due to unanticipated situations like bad weather or road construction.owing to lockdown, major fashion firms had to rethink their go-to-market strategy overnight, with actual brick-and-mortar stores closed and people staying away from shopping malls. myntra finds itself in a unique position to assist them.myntra moved its whole data infrastructure, including supply chain management, inventory, and website capabilities, to microsoft azure just before the pandemic. apart from giving myntra the flexibility to respond to demand spikes, azure’s built-in machine learning technologies sped up the development of advanced analytics capabilities, allowing them to better understand their customers.ai in fashion retailin retail, ai and machine learning are also providing an automated solution to monitor customer activities while shopping and visualize their sentiments to learn what products they prefer to buy and what products they ignore.ai can also track traffic in retail stores or record consumer shopping experiences, with the option of receiving feedback on how their experience was while shopping at the store, allowing them to enhance their services.uniqlo has ai-powered umood kiosks that offer clients a selection of products and use neurotransmitters to assess their reaction to color and style. the kiosk then makes product recommendations based on each person’s reactions. customers don’t even need to press a button for the system to know how they feel about each item; their brain signals are plenty.ai fashion stylist — styling the fashion accessoriesfurthermore, ai in fashion is enabling each of us to find those elusive perfect garments that suit our body types and fashion preferences.these ai-enabled garments and ensembles are personalized to the user’s style, body type, colors, and current fashion trends, as well as different situations and weather.iluk is an ai-based personal stylist that uses computer vision and 3d reconstruction technology at its core to provide technology-based personal styling. it’s shaped like a pod that will be placed in a store.ai in fast fashion with smart mirrorsimilarly, a smart mirror driven by ai is being utilized by a company to streamline consumers’ shopping experiences by allowing them to virtually visualize how items would appear on them without having to put them on their bodies.the ai smart mirror with touch screen glasses is mounted in the changing room of retail stores and relays information on whether or not a person is inside. customers can also use this mirror to try on other sizes and colors, as well as receive tailored mix-and-match alternatives to complete the appearance.van heusen designed a storage space that includes a “virtual trial” mirror that allows customers to view how clothes might appear on them by scanning the item’s barcode and stepping in front of the mirror while virtual clothing is projected onto their reflection.ai in ecommercein the same way that ai is revolutionizing retail fashion stores, ai is revolutionizing online purchasing and e-commerce. while browsing or searching for fashion goods on e-commerce sites, ai suggests additional items that are similar to what you’re looking for based on your color preferences, budget, and other factors. it analyses your search history data and suggests more relevant stuff you should look at.amazon has undoubtedly transformed the online shopping experience with its ai-powered product suggestion engine. amazon is implementing an ai-enabled fashion designer algorithm that can create clothing by mimicking the design styles of several popular garments and applying them to a new garment. the echo look fashion assistant, which uses machine learning to deliver personalized recommendations, is amazon’s other use case.ai in visual search — to find the products using cameraai-based visual search technology is now employed by e-commerce stores to comprehend the content and context of these photographs and produce a list of related results. you can capture an object using your camera and then search for it online. retailers can use ai-enabled computer vision-based visual search technology to propose thematically or aesthetically relevant items to customers in a way that would be difficult to do with only a word query.neiman marcus, a high-end department store, employs artificial intelligence to make it easier for shoppers to locate things. the snap. find. shop. the app allows users to photograph items they encounter while out and about, and then search neiman marcus’ inventory for the same or a comparable item.ai in fashion and sustainabilityone of the most damaging businesses on the earth is the fashion industry. artificial intelligence can be used in conjunction with machine learning, deep learning, natural language processing, visual recognition, and data analytics to reduce trend prediction errors and more precisely forecast patterns, leading to fewer garments being manufactured and subsequently underutilized.the h&m group is using “amplified intelligence,” which combines analytics and ai with human intelligence.using artificially intelligent technologies, h&m is enhancing its ability to recognize trends and organize logistics, as well as minimizing the frequency of discounted deals and large amounts of unsold goods.though intelligence per se is artificial, nevertheless is likely to have an earnest impact, both positive and negative:the fashion dilemmaapparel manufacture is a labor-intensive industry in the fashion industry. ai-enabled machines and robots can perfectly stitch fabrics while also detecting fabric flaws and providing quality assurance to ensure that the actual design hues will match the new colors.in nations like bangladesh, where the garment industry accounts for 80% of the gdp, this will have a significant influence on the labor force in the long run. it is already feeling the heat from these specialized ai-based devices, thus jeopardizing the jobs of breadwinners.ai should not be viewed as a rival, but rather as a collaborator. the cost and ethics of ai are currently preventing us from progressing. we must be careful not to use technology to increase inequity or exacerbate social injustice. we also need to find a balance and integrate humanity into the machines we’re constructing in the future.virtual wonderland“we are being monitored and classified by ai in portions of our lives that were not previously watched,” says sophie hackford, a futurist and keynote speaker. she wonders if we’ve built the “wrong” internet. we created it intending to monetize our viewers in mind, rather than the dynamic knowledge-sharing area that tim berners-lee envisioned at the start.” she believes that in the future, we will be much more selective in how we obtain information, and that “bots” would be critical in meeting our requirements. as a result, the gains will come at the expense of our privacy.as numerous as ai’s advantages are, it is impossible to ignore the difficult issues it brings. with everything being data-driven, there is a pressing need to establish boundaries to build a shared ecosystem that benefits both businesses and the general public.conclusionfinding a wise balance between physical stores and online stores will continue to be a crucial issue in an industry where brick-and-mortar retail locations are still an important element of the sector’s approach to business.the usefulness of chatbots aimed at improving online and in-store product navigation shows significant promise for preserving customer attention and use in the near term. we expect consumers to become accustomed to these capabilities over time, and the field to become more competitive as ai becomes more broadly applied, as prominent brands set the tone with their usage of ai.it’s too early to tell how these ai applications will affect earnings and cost savings because prominent fashion firms are still in the early stages of ai implementation. however, there will be a learning curve as corporations figure out how consumers react to these innovation efforts, which could have a direct influence on sales.blackcoffer insights 33: lakshman upadhyay and prabhlin kaur matta, welingkar institute of m d r, mumbai',\n",
              " 'understanding exactly how data is ingested, analyzed, and returned to the end-user can have a big impact on expectations for accuracy and reliability, not to mention influencing any investments necessary to whip an organization’s data assets into shape. to efficiently and effectively choose between vendor products or hire the right data science staff to develop algorithms in-house, healthcare organizations should feel confident that they have a firm grasp on the different flavors of artificial intelligence and how they can apply to specific use cases. deep learning is a good place to start.\\xa0 this branch of artificial intelligence has very quickly become transformative for healthcare, offering the ability to analyze data with a speed and precision never seen before. deep learning, also known as hierarchical learning or deep structured learning, is a type of machine learning that uses a layered algorithmic architecture to analyze data. in deep learning models, data is filtered through a cascade of multiple layers, with each successive layer using the output from the previous one to inform its results. deep learning models can become more and more accurate as they process more data, essentially learning from previous results to refine their ability to make correlations and connections. deep learning is loosely based on the way biological neurons connect to process information in the brains of animals.\\xa0 similar to the way electrical signals travel across the cells of living creates, each subsequent layer of nodes is activated when it receives stimuli from its neighboring neurons. in artificial neural networks (anns), the basis for deep learning models, each layer may be assigned a specific portion of a transformation task, and data might traverse the layers multiple times to refine and optimize the ultimate output.\\xa0 these “hidden” layers serve to perform the mathematical translation tasks that turn raw input into meaningful output. with the crypto anchors and blockchain employed with the medicine for example each pill of medication will be printed with scannable details which contains the time of production, originality, etc, which can be printed in medicine using edible substances. once the medicine is shipped all over the world we can scan the medicine with a scanner and find out whether the medicine is original or counterfeit with the blockchain details stored at the time of manufacturing. by using deep learning in medicines these neural networks will make sense of all the unrelated data and make them into understandable and scalable data so that can be used for making the medicine efficiency better by analyzing molecules of each component used in the medicine.blackcoffer insights 32: suriya e, vellore institute of technology',\n",
              " 'from the stone age to the modern world, from hunting and gathering to cultivating crops, from living in caves to building communities, we have come a long way to become the most evolved creature on the planet. so,\\xa0what\\xa0is that one thing which is a guiding force throughout this process? i believe in simple words we can say:\\xa0to enhance the experience of life,\\xa0or in other words, to boost our productivity level. once the basic need of food, cloth, and shelter is taken care of, we want a comfortable life, good education, proper healthcare, and the list goes on. this\\xa0urgency and endless need pushed\\xa0us to make\\xa0breakthrough\\xa0inventions that made\\xa0human life more comfortable and productive. first, humans invented electricity, then the computers came, after that portable computing devices like laptops and mobile phones became operative, and now\\xa0artificial intelligence or ai\\xa0is a buzzword.\\xa0every creation by human beings transformed human life on the face of this planet. from living in the mud house to building skyscrapers, from riding a bullock cart to flying an aircraft, from posting letters to making video calls, and now from computers to ai or artificial intelligence is yet another groundbreaking invention of humankind, which can\\xa0revolutionize\\xa0our lifestyle\\xa0forever!#artificial_intelligence #productivity #problem_solving #technology #machine #humanso, what is\\xa0artificial\\xa0intelligence\\xa0or\\xa0ai? we can say in simple words that ai is the ability of a\\xa0computer\\xa0program\\xa0to\\xa0think\\xa0and\\xa0learn\\xa0rationally. it is about pattern recognition, analyzing images and videos and learning, natural language processing, and understanding. it is more about creating a technology that can, in some cases, replace what humans do. however, to me personally, the most crucial part of the definition of ai is the application to\\xa0solve\\xa0problems\\xa0intelligently and rationally using algorithms that enables us to have computers find deep patterns that we may not have even known exist. ai is like a complex series and layers of algorithms that create a neural network that processes data and information coming into the system and derives knowledge from it. ai is a complicated and broad concept, where machine learning is a subset of ai, and deep learning, a specialized subset of machine learning.according to a study by\\xa0pwc, $16 trillion of gdp\\xa0will be added between now and 2030 based on ai. the economic impact of this scale has never been seen before. and it is not just in the it industry but impacts virtually every industry and aspect of our lives.so, now the question is how people around us are using this enigmatic technology?we use ai all the time. but mostly, we are unaware of it. we use ai whenever we type in a\\xa0search query\\xa0on a\\xa0search engine. every time we use our\\xa0gps\\xa0or whenever we use any\\xa0voice recognition system. what we can do with artificial intelligence is unlimited. whenever we do anything on any technology, we are using some form of machine learning or artificial intelligence. ai means different things to different people. ai facilitating machines and humans to understand and interact with each other creating new opportunities and new ways of doing business. for example:a videogame designer will use ai to jot down the code that affects how bots play and observe their reaction.a data scientist can use ai to explore and classify data to fulfill specific goals.\\xa0law enforcement agencies can use ai to identify criminals in video feeds.top of formbottom of formin the educational sector, ai can provide students with conversational interfaces and on-demand online tutors.customer service chatbots improved customer experience by resolving queries on the spot and freeing up agent time for conversations that add value.chatbots powered by natural language processing capabilities are employed in healthcare to interact with patients and run diagnoses like real doctors.ai-powered advances in speech-to-text technology have made real-time transcription possible.self-driving cars, facial recognition in social media apps, and image detection are possible because of ai.watson, alexa, siri, cortana, and google assistant are also a gift of ai.in medicine, ai is helping doctors arrive at more accurate preliminary diagnoses, reading medical imaging, finding appropriate clinical trials for patients. it is not just influencing patient outcomes but also making operational processes less expensive. it is helping patients with lou gehrig’s disease, for example, regain their original voice in place of using a computerized voice.ai is impacting the quality of our lives daily. there’s ai in our netflix queue, our navigation apps, keeping spam out of our inboxes, and reminding us of important events. ai monitor our investments, detecting fraudulent transactions, identifying credit card fraud, and preventing financial crimes. ai has the potential to access enormous amounts of information, imitate humans, even specific humans, make life-changing recommendations about health and finances, correlate data that may invade privacy, and much more.so, what we have understood is ai has penetrated our day-to-day life. now the question is how people can use it in the best possible way to extract value from it and boost their productivity even further? here are some of my suggestions:empowering people with disabilities: more than one billion people around the globe live with any form of disability, which accounts for around 15% of the population. ai or robot if used correctly, can turn out to be a blessing for these people. ai can provide preliminary support to make their life a little easier and efficient. for example, the world renounced scientist stephen hawkins lived most of his life with the assistance of ai and other technology. likewise, for the paralyzed people ai or a robot can help to do basic day-to-day activities. for a blind person, ai can work as a personal assistant who can provide text-to-speech translation, writing assistance, and support in other regular activities. whether a person is blind, deaf, or paralyzed, it doesn’t matter. ai can be a life-changing tool for them.boosting the quality of self-study: ai can transform our educational system completely. just imagine how it would have been if there weren’t any means of doing online education in this pandemic and lockdown? our entire education would have come to a halt. i believe post-pandemic, the world may shift more to an online medium, both for work and education. other than that, we sometimes face difficulties in self-study. their artificial intelligence can help by understanding, explaining, and providing the correct information at the right time. just imagine how efficient a student’s life would have been if they had a robot as a tutor 24*7!women safety: ai can be of enormous help in providing safety, protection, and security services.personal assistant: it would have been so convenient for us if we had a personal assistant. people like us can’t afford to keep a personal assistant for them to have a robot who can keep an account of our daily work would have been so convenient and productive.helping hand in the household chores: household chores is an essential factor that impacts our daily life. it will be a blessing for every household to have a robot to do the basics chores of cleaning, cooking, washing, carrying heavy loads, and doing other repetitive jobs. it will save a lot of time, and we can invest that time in more productive and creative activities.blackcoffer insights 32: dolon biswas, praxis business school']"
            ]
          },
          "metadata": {},
          "execution_count": 8
        }
      ]
    },
    {
      "cell_type": "markdown",
      "source": [
        "## Punctuation removal"
      ],
      "metadata": {
        "id": "v98lb1jn3iwI"
      }
    },
    {
      "cell_type": "code",
      "source": [
        "c_text=[]\n",
        "for words in lower_text:\n",
        "  res=re.sub(r'[^\\w\\s\\.]',\"\",words)\n",
        "  if res !=\"\":\n",
        "    c_text.append(res)"
      ],
      "metadata": {
        "id": "xy9QvZ28NMOC"
      },
      "execution_count": 9,
      "outputs": []
    },
    {
      "cell_type": "code",
      "source": [
        "c_text[:5]"
      ],
      "metadata": {
        "colab": {
          "base_uri": "https://localhost:8080/"
        },
        "id": "CR_64UMSxhZW",
        "outputId": "108353a6-eb09-4a95-ee7e-a7a18a4ee9c7"
      },
      "execution_count": 10,
      "outputs": [
        {
          "output_type": "execute_result",
          "data": {
            "text/plain": [
              "['when people hear ai they often think about sentient robots and magic boxes. ai today is much more mundane and simplebut that doesnt mean its not powerful. another misconception is that highprofile research projects can be applied directly to any business situation. ai done right can create an extreme return on investments roisfor instance through automation or precise prediction. but it does take thought time and proper implementation. we have seen that success and value generated by ai projects are increased when there is a grounded understanding and expectation of what the technology can deliver from the csuite down.artificial intelligence ai is a science and a set of computational technologies that are inspired bybut typically operate quite differently fromthe ways people use their nervous systems and bodies to sense learn reason and take action.3 lately there has been a big rise in the daytoday use of machines powered by ai. these machines are wired using crossdisciplinary approaches based on mathematics computer science statistics psychology and more.4 virtual assistants are becoming more common most of the web shops predict your purchases many companies make use of chatbots in their customer service and many companies use algorithms to detect fraud.ai and deep learning technology employed in office entry systems will bring proper time tracking of each employee. as this system tries to learn each person with an image processing technology whose data is feed forwarded to a deep learning model where deep learning isnt an algorithm per se but rather a family of algorithms that implements deep networks many layers. these networks are so deep that new methods of computation such as graphics processing units gpus are required to train them in addition to clusters of compute nodes. so using deep learning we can take detect the employee using face and person recognition scan and through which login logout timing is recorded. using an ai system we can even identify each employees entry time their working hours nonworking hours by tracking the movement of an employee in the office so that system can predict and report hr for the salary for each employee based on their working hours. our system can take feed from cctv to track movements of employees and this system is capable of recognizing a person even heshe is being masked as in this pandemic situation by taking their iris scan. with this system installed inside the office the following are some of the benefits1compliancelitigation needsfor several countries regulations insist that the employer must keep documents available that can demonstrate the working hours performed by each employee. in the event of control from the labor inspectorate or a dispute with an employee the employer must be able to explain and justify the working hours for the company. this can be made easy as our system is tracking employee movements2information security needsthis is about monitoring user connection times to detect suspicious access times. in the event where compromised credentials are used to log on at 3 a.m. on a saturday a notification on this access could alert the it team that an attack is possibly underway.3employee login logout softwareto manage and react to employees attendance overtime thresholds productivity and suspicious access times our system records and stores detailed and interactive reporting on users connection times. these records allow you to better manage users connection times and provide accurate detailed data required by management.4if you want to avoid paying overtime make sure that your employees respect certain working time quotas or even avoid suspicious access. our system will alert the hr officer about each employees office in and out time so that they can accordingly take action.5last but not least it reduces human resource needs to keep track of the records and sending the report to hr and hr officials has to check through the report so this system will reduce times and human resource needswith the use of ai and deep learning technologies we can automate some routines stuff with more functionality which humans need more resources to keep track thereby reducing time spent on manual data entry works rather companies can think of making their position high in the competitive world.blackcoffer insights 33 suriya e vellore institute of technology',\n",
              " 'with increasing computing power and more data the potential value of algorithms became higher. people and companies saw possibilities to embed these smart systems into their companies to drive strategy and innovation. as the power of algorithms computing and amounts of data increased companies started to see an increasing amount of use cases. ai started to become an essential value. companies saw that these systems could move them closer to their customers drive efficiency enhance employee experience and capability automatize tasks decrease costs and improve revenue. but ai went through some lulls and spikes before it became capable of enabling so many benefits. at a certain point the general public gave up on ai and machine learning as a whole which stalled developments and investments.ai uses computer vision and deep learning to achieve these results. computer vision incorporates neural networks that help computers detect objects within shelf images and classify them accurately.deep learning is a new area that is moving machine learning closer to one of its original goals ai. in deep learning a computer system is fed a lot of data which it then observes and analyzes to recognize emergent patterns and trends ultimately generating appropriate recommendations and predictions.deep learning applications especially in the field of computer vision are more than ready for prime time. recently a neural network architecture won the imagenet challenge by classifying a wide variety of objects  like birds ships and cats  into the correct categories more accurately than humans did.back at the store shelf even subtle differences between objects poor lighting reflections and background clutter can be overcome with these powerful ai applications.our tool recognizes products among thousands of possible retail items and verifies their placement according to the given planogram. this translates into the automation o shelf management activities centralized monitoring of shelf arrangement over hundreds of branches and validation of the product license agreement for suppliers.the use of mlpowered analytics solutions can help businesses forecast inventory demand with high accuracy. systems that rely on machine learning are capable of analyzing a multitude of data points finding subtle patterns indicating changes in customer preferences behavior or satisfaction which can be nonobvious to humans. whats more these systems dont require explicit programming as machine learning models learn from data. the more data is fed to them the better they handle it while deriving meaningful insights.our system will automate manual tasks like gap and price scanning and free up your staff to help shoppers. it increases availability and provides realtime accurate alerts to restock shelves faster than ever and increase onshelf availability.it will transform the supply chain. drive supply chain decisions with realtime shelf data to understand actual demand and avoid inaccurate inventory management and comply with price and promotions. automatically detect mismatches at the shelf and avoid customer frustration. our system will harmonize online and offline channels. optimize online order picking and reflect your real availability to the shopper as they make their online orderby this system if it is implemented in a supermarket where we can use this application to predict the market price and demand and accordingly we can forecast the demand and take actions in prior and this system can also keep track of the expiry of each perishable products and alerts for them to change it accordingly at the correct time. if some new product is released in the market and that is with great demand our system will try to analyze where it is placed in the store if it is not present in the store our system will report to the sales manager to add these new products in the store at a much reachable and visible place for the buyers.blackcoffer insights 33 suriya e vellore institute of technology',\n",
              " 'if you were a fan of the 90s film clueless back in the day then youll remember the protagonist cher horowitzs amazing virtual wardrobe. she used it to browse her clothing and choose a perfectly coordinated ensemble. this virtual application which was just the brainchild of a writer wanting to make the protagonist look rich fashionable and ahead of her time ignited a buzz and prospected having an automated style device to make everyday dressup fun and engagingly timesaving.times have changed and technological advancement today is transforming everything from probabilities to possibilities. we are in the era where machines not just facilitate our tasks and demands but rather suggest forecasts and analyze thus making lives simpler and smarter.with the advent of technology style suggestions are just a fraction of the big picture that ai has painted in the fashion industry today.what is aiartificial intelligence is the creation of computer programs capable of performing activities and solving issues that would normally need human intelligence. ai has surged across a variety of industries with the potential to transform businesses through creative technologies and more effective operational processes.at first ai automation did not appear to be an appealing tool for fashion leaders to use in an industry focused on creative ability and expression. however as we enter the hyperdigital era these apps have the potential to revolutionize enterprises and generate considerable industry growth when compared to competitors that use traditional approaches.some of the most wellknown brands in the business are now investing in algorithms that assist buyers to choose designs. a slew of aibased startups is also assisting everyone from retailers to customers in removing the guesswork from the equation.impact on fashionthis article examines how artificial intelligence has impacted key areas of the fashion industry as well as explores brands that have benefited from its use.ai in apparel designingfashion firms are utilizing technology to better understand client wants and produce better garments thanks to more sophisticated data collection.tommy hilfiger pioneered the reimagine retail project which trains fashion designers with ai design skills in collaboration with ibm. as a result fashion students could master a variety of technical skills such as natural language processing nlp or computer vision. fashion students could learn from thousands of fashionrelated photos using ai which increased their inventiveness and shortened lead times for the fashion firm.ai in the manufacturing processfashion brands are now able to identify fastchanging fashion trends and get the latest fashion accessories to store shelves faster than the traditional fashion shop thanks to ai and machine learning capabilities. as a result prominent fashion brands such as zara top shop and hm can provide immediate gratification to retail customers by identifying seasonal trends and producing the appropriate quantity of the current items.ai in logisticsai in inventory and supply chain management helps to speed up processes by optimizing routes and lowering logistics and shipping costs. companies use ai to automate logistics and supply chain procedures for speedier delivery or to locate alternate routes for vehicles that have been detoured due to unanticipated situations like bad weather or road construction.owing to lockdown major fashion firms had to rethink their gotomarket strategy overnight with actual brickandmortar stores closed and people staying away from shopping malls. myntra finds itself in a unique position to assist them.myntra moved its whole data infrastructure including supply chain management inventory and website capabilities to microsoft azure just before the pandemic. apart from giving myntra the flexibility to respond to demand spikes azures builtin machine learning technologies sped up the development of advanced analytics capabilities allowing them to better understand their customers.ai in fashion retailin retail ai and machine learning are also providing an automated solution to monitor customer activities while shopping and visualize their sentiments to learn what products they prefer to buy and what products they ignore.ai can also track traffic in retail stores or record consumer shopping experiences with the option of receiving feedback on how their experience was while shopping at the store allowing them to enhance their services.uniqlo has aipowered umood kiosks that offer clients a selection of products and use neurotransmitters to assess their reaction to color and style. the kiosk then makes product recommendations based on each persons reactions. customers dont even need to press a button for the system to know how they feel about each item their brain signals are plenty.ai fashion stylist  styling the fashion accessoriesfurthermore ai in fashion is enabling each of us to find those elusive perfect garments that suit our body types and fashion preferences.these aienabled garments and ensembles are personalized to the users style body type colors and current fashion trends as well as different situations and weather.iluk is an aibased personal stylist that uses computer vision and 3d reconstruction technology at its core to provide technologybased personal styling. its shaped like a pod that will be placed in a store.ai in fast fashion with smart mirrorsimilarly a smart mirror driven by ai is being utilized by a company to streamline consumers shopping experiences by allowing them to virtually visualize how items would appear on them without having to put them on their bodies.the ai smart mirror with touch screen glasses is mounted in the changing room of retail stores and relays information on whether or not a person is inside. customers can also use this mirror to try on other sizes and colors as well as receive tailored mixandmatch alternatives to complete the appearance.van heusen designed a storage space that includes a virtual trial mirror that allows customers to view how clothes might appear on them by scanning the items barcode and stepping in front of the mirror while virtual clothing is projected onto their reflection.ai in ecommercein the same way that ai is revolutionizing retail fashion stores ai is revolutionizing online purchasing and ecommerce. while browsing or searching for fashion goods on ecommerce sites ai suggests additional items that are similar to what youre looking for based on your color preferences budget and other factors. it analyses your search history data and suggests more relevant stuff you should look at.amazon has undoubtedly transformed the online shopping experience with its aipowered product suggestion engine. amazon is implementing an aienabled fashion designer algorithm that can create clothing by mimicking the design styles of several popular garments and applying them to a new garment. the echo look fashion assistant which uses machine learning to deliver personalized recommendations is amazons other use case.ai in visual search  to find the products using cameraaibased visual search technology is now employed by ecommerce stores to comprehend the content and context of these photographs and produce a list of related results. you can capture an object using your camera and then search for it online. retailers can use aienabled computer visionbased visual search technology to propose thematically or aesthetically relevant items to customers in a way that would be difficult to do with only a word query.neiman marcus a highend department store employs artificial intelligence to make it easier for shoppers to locate things. the snap. find. shop. the app allows users to photograph items they encounter while out and about and then search neiman marcus inventory for the same or a comparable item.ai in fashion and sustainabilityone of the most damaging businesses on the earth is the fashion industry. artificial intelligence can be used in conjunction with machine learning deep learning natural language processing visual recognition and data analytics to reduce trend prediction errors and more precisely forecast patterns leading to fewer garments being manufactured and subsequently underutilized.the hm group is using amplified intelligence which combines analytics and ai with human intelligence.using artificially intelligent technologies hm is enhancing its ability to recognize trends and organize logistics as well as minimizing the frequency of discounted deals and large amounts of unsold goods.though intelligence per se is artificial nevertheless is likely to have an earnest impact both positive and negativethe fashion dilemmaapparel manufacture is a laborintensive industry in the fashion industry. aienabled machines and robots can perfectly stitch fabrics while also detecting fabric flaws and providing quality assurance to ensure that the actual design hues will match the new colors.in nations like bangladesh where the garment industry accounts for 80 of the gdp this will have a significant influence on the labor force in the long run. it is already feeling the heat from these specialized aibased devices thus jeopardizing the jobs of breadwinners.ai should not be viewed as a rival but rather as a collaborator. the cost and ethics of ai are currently preventing us from progressing. we must be careful not to use technology to increase inequity or exacerbate social injustice. we also need to find a balance and integrate humanity into the machines were constructing in the future.virtual wonderlandwe are being monitored and classified by ai in portions of our lives that were not previously watched says sophie hackford a futurist and keynote speaker. she wonders if weve built the wrong internet. we created it intending to monetize our viewers in mind rather than the dynamic knowledgesharing area that tim bernerslee envisioned at the start. she believes that in the future we will be much more selective in how we obtain information and that bots would be critical in meeting our requirements. as a result the gains will come at the expense of our privacy.as numerous as ais advantages are it is impossible to ignore the difficult issues it brings. with everything being datadriven there is a pressing need to establish boundaries to build a shared ecosystem that benefits both businesses and the general public.conclusionfinding a wise balance between physical stores and online stores will continue to be a crucial issue in an industry where brickandmortar retail locations are still an important element of the sectors approach to business.the usefulness of chatbots aimed at improving online and instore product navigation shows significant promise for preserving customer attention and use in the near term. we expect consumers to become accustomed to these capabilities over time and the field to become more competitive as ai becomes more broadly applied as prominent brands set the tone with their usage of ai.its too early to tell how these ai applications will affect earnings and cost savings because prominent fashion firms are still in the early stages of ai implementation. however there will be a learning curve as corporations figure out how consumers react to these innovation efforts which could have a direct influence on sales.blackcoffer insights 33 lakshman upadhyay and prabhlin kaur matta welingkar institute of m d r mumbai',\n",
              " 'understanding exactly how data is ingested analyzed and returned to the enduser can have a big impact on expectations for accuracy and reliability not to mention influencing any investments necessary to whip an organizations data assets into shape. to efficiently and effectively choose between vendor products or hire the right data science staff to develop algorithms inhouse healthcare organizations should feel confident that they have a firm grasp on the different flavors of artificial intelligence and how they can apply to specific use cases. deep learning is a good place to start.\\xa0 this branch of artificial intelligence has very quickly become transformative for healthcare offering the ability to analyze data with a speed and precision never seen before. deep learning also known as hierarchical learning or deep structured learning is a type of machine learning that uses a layered algorithmic architecture to analyze data. in deep learning models data is filtered through a cascade of multiple layers with each successive layer using the output from the previous one to inform its results. deep learning models can become more and more accurate as they process more data essentially learning from previous results to refine their ability to make correlations and connections. deep learning is loosely based on the way biological neurons connect to process information in the brains of animals.\\xa0 similar to the way electrical signals travel across the cells of living creates each subsequent layer of nodes is activated when it receives stimuli from its neighboring neurons. in artificial neural networks anns the basis for deep learning models each layer may be assigned a specific portion of a transformation task and data might traverse the layers multiple times to refine and optimize the ultimate output.\\xa0 these hidden layers serve to perform the mathematical translation tasks that turn raw input into meaningful output. with the crypto anchors and blockchain employed with the medicine for example each pill of medication will be printed with scannable details which contains the time of production originality etc which can be printed in medicine using edible substances. once the medicine is shipped all over the world we can scan the medicine with a scanner and find out whether the medicine is original or counterfeit with the blockchain details stored at the time of manufacturing. by using deep learning in medicines these neural networks will make sense of all the unrelated data and make them into understandable and scalable data so that can be used for making the medicine efficiency better by analyzing molecules of each component used in the medicine.blackcoffer insights 32 suriya e vellore institute of technology',\n",
              " 'from the stone age to the modern world from hunting and gathering to cultivating crops from living in caves to building communities we have come a long way to become the most evolved creature on the planet. so\\xa0what\\xa0is that one thing which is a guiding force throughout this process i believe in simple words we can say\\xa0to enhance the experience of life\\xa0or in other words to boost our productivity level. once the basic need of food cloth and shelter is taken care of we want a comfortable life good education proper healthcare and the list goes on. this\\xa0urgency and endless need pushed\\xa0us to make\\xa0breakthrough\\xa0inventions that made\\xa0human life more comfortable and productive. first humans invented electricity then the computers came after that portable computing devices like laptops and mobile phones became operative and now\\xa0artificial intelligence or ai\\xa0is a buzzword.\\xa0every creation by human beings transformed human life on the face of this planet. from living in the mud house to building skyscrapers from riding a bullock cart to flying an aircraft from posting letters to making video calls and now from computers to ai or artificial intelligence is yet another groundbreaking invention of humankind which can\\xa0revolutionize\\xa0our lifestyle\\xa0foreverartificial_intelligence productivity problem_solving technology machine humanso what is\\xa0artificial\\xa0intelligence\\xa0or\\xa0ai we can say in simple words that ai is the ability of a\\xa0computer\\xa0program\\xa0to\\xa0think\\xa0and\\xa0learn\\xa0rationally. it is about pattern recognition analyzing images and videos and learning natural language processing and understanding. it is more about creating a technology that can in some cases replace what humans do. however to me personally the most crucial part of the definition of ai is the application to\\xa0solve\\xa0problems\\xa0intelligently and rationally using algorithms that enables us to have computers find deep patterns that we may not have even known exist. ai is like a complex series and layers of algorithms that create a neural network that processes data and information coming into the system and derives knowledge from it. ai is a complicated and broad concept where machine learning is a subset of ai and deep learning a specialized subset of machine learning.according to a study by\\xa0pwc 16 trillion of gdp\\xa0will be added between now and 2030 based on ai. the economic impact of this scale has never been seen before. and it is not just in the it industry but impacts virtually every industry and aspect of our lives.so now the question is how people around us are using this enigmatic technologywe use ai all the time. but mostly we are unaware of it. we use ai whenever we type in a\\xa0search query\\xa0on a\\xa0search engine. every time we use our\\xa0gps\\xa0or whenever we use any\\xa0voice recognition system. what we can do with artificial intelligence is unlimited. whenever we do anything on any technology we are using some form of machine learning or artificial intelligence. ai means different things to different people. ai facilitating machines and humans to understand and interact with each other creating new opportunities and new ways of doing business. for examplea videogame designer will use ai to jot down the code that affects how bots play and observe their reaction.a data scientist can use ai to explore and classify data to fulfill specific goals.\\xa0law enforcement agencies can use ai to identify criminals in video feeds.top of formbottom of formin the educational sector ai can provide students with conversational interfaces and ondemand online tutors.customer service chatbots improved customer experience by resolving queries on the spot and freeing up agent time for conversations that add value.chatbots powered by natural language processing capabilities are employed in healthcare to interact with patients and run diagnoses like real doctors.aipowered advances in speechtotext technology have made realtime transcription possible.selfdriving cars facial recognition in social media apps and image detection are possible because of ai.watson alexa siri cortana and google assistant are also a gift of ai.in medicine ai is helping doctors arrive at more accurate preliminary diagnoses reading medical imaging finding appropriate clinical trials for patients. it is not just influencing patient outcomes but also making operational processes less expensive. it is helping patients with lou gehrigs disease for example regain their original voice in place of using a computerized voice.ai is impacting the quality of our lives daily. theres ai in our netflix queue our navigation apps keeping spam out of our inboxes and reminding us of important events. ai monitor our investments detecting fraudulent transactions identifying credit card fraud and preventing financial crimes. ai has the potential to access enormous amounts of information imitate humans even specific humans make lifechanging recommendations about health and finances correlate data that may invade privacy and much more.so what we have understood is ai has penetrated our daytoday life. now the question is how people can use it in the best possible way to extract value from it and boost their productivity even further here are some of my suggestionsempowering people with disabilities more than one billion people around the globe live with any form of disability which accounts for around 15 of the population. ai or robot if used correctly can turn out to be a blessing for these people. ai can provide preliminary support to make their life a little easier and efficient. for example the world renounced scientist stephen hawkins lived most of his life with the assistance of ai and other technology. likewise for the paralyzed people ai or a robot can help to do basic daytoday activities. for a blind person ai can work as a personal assistant who can provide texttospeech translation writing assistance and support in other regular activities. whether a person is blind deaf or paralyzed it doesnt matter. ai can be a lifechanging tool for them.boosting the quality of selfstudy ai can transform our educational system completely. just imagine how it would have been if there werent any means of doing online education in this pandemic and lockdown our entire education would have come to a halt. i believe postpandemic the world may shift more to an online medium both for work and education. other than that we sometimes face difficulties in selfstudy. their artificial intelligence can help by understanding explaining and providing the correct information at the right time. just imagine how efficient a students life would have been if they had a robot as a tutor 247women safety ai can be of enormous help in providing safety protection and security services.personal assistant it would have been so convenient for us if we had a personal assistant. people like us cant afford to keep a personal assistant for them to have a robot who can keep an account of our daily work would have been so convenient and productive.helping hand in the household chores household chores is an essential factor that impacts our daily life. it will be a blessing for every household to have a robot to do the basics chores of cleaning cooking washing carrying heavy loads and doing other repetitive jobs. it will save a lot of time and we can invest that time in more productive and creative activities.blackcoffer insights 32 dolon biswas praxis business school']"
            ]
          },
          "metadata": {},
          "execution_count": 10
        }
      ]
    },
    {
      "cell_type": "markdown",
      "source": [
        "# **CLEAN DATA**"
      ],
      "metadata": {
        "id": "_EI6tXHF4BSa"
      }
    },
    {
      "cell_type": "code",
      "source": [
        "clean_d=pd.DataFrame()"
      ],
      "metadata": {
        "id": "-VxW4N3bwrp_"
      },
      "execution_count": 11,
      "outputs": []
    },
    {
      "cell_type": "code",
      "source": [
        "clean_d['URL_ID']=df['URL_ID'].astype(int)\n",
        "clean_d['text']=c_text"
      ],
      "metadata": {
        "id": "C0SVq_941L4J"
      },
      "execution_count": 12,
      "outputs": []
    },
    {
      "cell_type": "code",
      "source": [
        "clean_d.head()"
      ],
      "metadata": {
        "colab": {
          "base_uri": "https://localhost:8080/",
          "height": 206
        },
        "id": "S6o0U1V01YEv",
        "outputId": "60f6a102-1922-4563-b085-cc8186ac1cbc"
      },
      "execution_count": 13,
      "outputs": [
        {
          "output_type": "execute_result",
          "data": {
            "text/plain": [
              "   URL_ID                                               text\n",
              "0       1  when people hear ai they often think about sen...\n",
              "1       2  with increasing computing power and more data ...\n",
              "2       3  if you were a fan of the 90s film clueless bac...\n",
              "3       4  understanding exactly how data is ingested ana...\n",
              "4       5  from the stone age to the modern world from hu..."
            ],
            "text/html": [
              "\n",
              "  <div id=\"df-91f9d514-f060-45a6-9f5a-e505de3cf56a\">\n",
              "    <div class=\"colab-df-container\">\n",
              "      <div>\n",
              "<style scoped>\n",
              "    .dataframe tbody tr th:only-of-type {\n",
              "        vertical-align: middle;\n",
              "    }\n",
              "\n",
              "    .dataframe tbody tr th {\n",
              "        vertical-align: top;\n",
              "    }\n",
              "\n",
              "    .dataframe thead th {\n",
              "        text-align: right;\n",
              "    }\n",
              "</style>\n",
              "<table border=\"1\" class=\"dataframe\">\n",
              "  <thead>\n",
              "    <tr style=\"text-align: right;\">\n",
              "      <th></th>\n",
              "      <th>URL_ID</th>\n",
              "      <th>text</th>\n",
              "    </tr>\n",
              "  </thead>\n",
              "  <tbody>\n",
              "    <tr>\n",
              "      <th>0</th>\n",
              "      <td>1</td>\n",
              "      <td>when people hear ai they often think about sen...</td>\n",
              "    </tr>\n",
              "    <tr>\n",
              "      <th>1</th>\n",
              "      <td>2</td>\n",
              "      <td>with increasing computing power and more data ...</td>\n",
              "    </tr>\n",
              "    <tr>\n",
              "      <th>2</th>\n",
              "      <td>3</td>\n",
              "      <td>if you were a fan of the 90s film clueless bac...</td>\n",
              "    </tr>\n",
              "    <tr>\n",
              "      <th>3</th>\n",
              "      <td>4</td>\n",
              "      <td>understanding exactly how data is ingested ana...</td>\n",
              "    </tr>\n",
              "    <tr>\n",
              "      <th>4</th>\n",
              "      <td>5</td>\n",
              "      <td>from the stone age to the modern world from hu...</td>\n",
              "    </tr>\n",
              "  </tbody>\n",
              "</table>\n",
              "</div>\n",
              "      <button class=\"colab-df-convert\" onclick=\"convertToInteractive('df-91f9d514-f060-45a6-9f5a-e505de3cf56a')\"\n",
              "              title=\"Convert this dataframe to an interactive table.\"\n",
              "              style=\"display:none;\">\n",
              "        \n",
              "  <svg xmlns=\"http://www.w3.org/2000/svg\" height=\"24px\"viewBox=\"0 0 24 24\"\n",
              "       width=\"24px\">\n",
              "    <path d=\"M0 0h24v24H0V0z\" fill=\"none\"/>\n",
              "    <path d=\"M18.56 5.44l.94 2.06.94-2.06 2.06-.94-2.06-.94-.94-2.06-.94 2.06-2.06.94zm-11 1L8.5 8.5l.94-2.06 2.06-.94-2.06-.94L8.5 2.5l-.94 2.06-2.06.94zm10 10l.94 2.06.94-2.06 2.06-.94-2.06-.94-.94-2.06-.94 2.06-2.06.94z\"/><path d=\"M17.41 7.96l-1.37-1.37c-.4-.4-.92-.59-1.43-.59-.52 0-1.04.2-1.43.59L10.3 9.45l-7.72 7.72c-.78.78-.78 2.05 0 2.83L4 21.41c.39.39.9.59 1.41.59.51 0 1.02-.2 1.41-.59l7.78-7.78 2.81-2.81c.8-.78.8-2.07 0-2.86zM5.41 20L4 18.59l7.72-7.72 1.47 1.35L5.41 20z\"/>\n",
              "  </svg>\n",
              "      </button>\n",
              "      \n",
              "  <style>\n",
              "    .colab-df-container {\n",
              "      display:flex;\n",
              "      flex-wrap:wrap;\n",
              "      gap: 12px;\n",
              "    }\n",
              "\n",
              "    .colab-df-convert {\n",
              "      background-color: #E8F0FE;\n",
              "      border: none;\n",
              "      border-radius: 50%;\n",
              "      cursor: pointer;\n",
              "      display: none;\n",
              "      fill: #1967D2;\n",
              "      height: 32px;\n",
              "      padding: 0 0 0 0;\n",
              "      width: 32px;\n",
              "    }\n",
              "\n",
              "    .colab-df-convert:hover {\n",
              "      background-color: #E2EBFA;\n",
              "      box-shadow: 0px 1px 2px rgba(60, 64, 67, 0.3), 0px 1px 3px 1px rgba(60, 64, 67, 0.15);\n",
              "      fill: #174EA6;\n",
              "    }\n",
              "\n",
              "    [theme=dark] .colab-df-convert {\n",
              "      background-color: #3B4455;\n",
              "      fill: #D2E3FC;\n",
              "    }\n",
              "\n",
              "    [theme=dark] .colab-df-convert:hover {\n",
              "      background-color: #434B5C;\n",
              "      box-shadow: 0px 1px 3px 1px rgba(0, 0, 0, 0.15);\n",
              "      filter: drop-shadow(0px 1px 2px rgba(0, 0, 0, 0.3));\n",
              "      fill: #FFFFFF;\n",
              "    }\n",
              "  </style>\n",
              "\n",
              "      <script>\n",
              "        const buttonEl =\n",
              "          document.querySelector('#df-91f9d514-f060-45a6-9f5a-e505de3cf56a button.colab-df-convert');\n",
              "        buttonEl.style.display =\n",
              "          google.colab.kernel.accessAllowed ? 'block' : 'none';\n",
              "\n",
              "        async function convertToInteractive(key) {\n",
              "          const element = document.querySelector('#df-91f9d514-f060-45a6-9f5a-e505de3cf56a');\n",
              "          const dataTable =\n",
              "            await google.colab.kernel.invokeFunction('convertToInteractive',\n",
              "                                                     [key], {});\n",
              "          if (!dataTable) return;\n",
              "\n",
              "          const docLinkHtml = 'Like what you see? Visit the ' +\n",
              "            '<a target=\"_blank\" href=https://colab.research.google.com/notebooks/data_table.ipynb>data table notebook</a>'\n",
              "            + ' to learn more about interactive tables.';\n",
              "          element.innerHTML = '';\n",
              "          dataTable['output_type'] = 'display_data';\n",
              "          await google.colab.output.renderOutput(dataTable, element);\n",
              "          const docLink = document.createElement('div');\n",
              "          docLink.innerHTML = docLinkHtml;\n",
              "          element.appendChild(docLink);\n",
              "        }\n",
              "      </script>\n",
              "    </div>\n",
              "  </div>\n",
              "  "
            ]
          },
          "metadata": {},
          "execution_count": 13
        }
      ]
    },
    {
      "cell_type": "markdown",
      "source": [
        "# **STOP WORDS**\n"
      ],
      "metadata": {
        "id": "S9NT9rv6b569"
      }
    },
    {
      "cell_type": "markdown",
      "source": [
        "Compiled all the stopwords into single file and opening it."
      ],
      "metadata": {
        "id": "kWR3O-H24fyt"
      }
    },
    {
      "cell_type": "code",
      "source": [
        "s3=open('/content/MasterStopWord.txt')\n",
        "c=s3.read()\n",
        "stop1=c.splitlines()\n",
        "print(len(stop1))\n",
        "print(stop1[:50])\n",
        "print(stop1[13500:])"
      ],
      "metadata": {
        "colab": {
          "base_uri": "https://localhost:8080/"
        },
        "id": "frJAumlIehsf",
        "outputId": "ce14a78e-c669-46f1-80e5-73ca814d9c29"
      },
      "execution_count": 14,
      "outputs": [
        {
          "output_type": "stream",
          "name": "stdout",
          "text": [
            "13536\n",
            "['SMITH', 'JOHNSON', 'WILLIAMS', 'JONES', 'BROWN', 'DAVIS', 'MILLER', 'WILSON', 'MOORE', 'TAYLOR', 'ANDERSON', 'THOMAS', 'JACKSON', 'WHITE', 'HARRIS', 'MARTIN', 'THOMPSON', 'GARCIA', 'MARTINEZ', 'ROBINSON', 'CLARK', 'RODRIGUEZ', 'LEWIS', 'LEE', 'WALKER', 'HALL', 'ALLEN', 'YOUNG', 'HERNANDEZ', 'KING', 'WRIGHT', 'LOPEZ', 'HILL', 'SCOTT', 'GREEN', 'ADAMS', 'BAKER', 'GONZALEZ', 'NELSON', 'CARTER', 'MITCHELL', 'PEREZ', 'ROBERTS', 'TURNER', 'PHILLIPS', 'CAMPBELL', 'PARKER', 'EVANS', 'EDWARDS', 'COLLINS']\n",
            "['NAIRA', 'NAKFA', 'NEW LIRA', 'NEW SHEQEL', 'NGULTRUM', 'NUEVO SOL', 'OUGUIYA', 'PATACA', 'PESO', 'POUND', 'PULA', 'QUETZAL', 'RAND', 'REAL', 'RENMINBI', 'RIAL', 'RIEL', 'RINGGIT', 'RIYAL', 'RUBLE', 'RUFIYAA', 'RUPEE', 'RUPEE', 'RUPIAH', 'SHILLING', 'SOM', 'SOMONI', 'SPECIAL DRAWING RIGHTS', 'TAKA', 'TALA', 'TENGE', 'TUGRIK', 'VATU', 'WON', 'YEN', 'ZLOTY']\n"
          ]
        }
      ]
    },
    {
      "cell_type": "markdown",
      "source": [
        "ALL the articles is in lowercase so transforming all stopwords to lowercase"
      ],
      "metadata": {
        "id": "9HVXZ17-4pnA"
      }
    },
    {
      "cell_type": "code",
      "source": [
        "stop_lower_text=[]\n",
        "for words in stop1:\n",
        "  stop_lower_text.append(str.lower(words))\n",
        "\n",
        "print(stop_lower_text[:10])"
      ],
      "metadata": {
        "colab": {
          "base_uri": "https://localhost:8080/"
        },
        "id": "Fw79tET8f9f8",
        "outputId": "3dd9d597-f1e1-46fc-95bc-4b95576ccc3c"
      },
      "execution_count": 15,
      "outputs": [
        {
          "output_type": "stream",
          "name": "stdout",
          "text": [
            "['smith', 'johnson', 'williams', 'jones', 'brown', 'davis', 'miller', 'wilson', 'moore', 'taylor']\n"
          ]
        }
      ]
    },
    {
      "cell_type": "markdown",
      "source": [
        "**DATA BEFORE STOP WORD REMOVAL.**"
      ],
      "metadata": {
        "id": "YlcjbLrc488u"
      }
    },
    {
      "cell_type": "code",
      "source": [
        "clean_d['text'].head()"
      ],
      "metadata": {
        "colab": {
          "base_uri": "https://localhost:8080/"
        },
        "id": "19UmOowl3UKg",
        "outputId": "a0314b0e-78d6-4d78-bd76-797af96b389d"
      },
      "execution_count": 16,
      "outputs": [
        {
          "output_type": "execute_result",
          "data": {
            "text/plain": [
              "0    when people hear ai they often think about sen...\n",
              "1    with increasing computing power and more data ...\n",
              "2    if you were a fan of the 90s film clueless bac...\n",
              "3    understanding exactly how data is ingested ana...\n",
              "4    from the stone age to the modern world from hu...\n",
              "Name: text, dtype: object"
            ]
          },
          "metadata": {},
          "execution_count": 16
        }
      ]
    },
    {
      "cell_type": "markdown",
      "source": [
        "**DATA AFTER STOP WORD REMOVAL.**"
      ],
      "metadata": {
        "id": "XTzJsK755Hgn"
      }
    },
    {
      "cell_type": "code",
      "source": [
        "clean_d['text'] = clean_d['text'].apply(lambda x: \" \".join(x for x in x.split() if x not in stop_lower_text))\n",
        "clean_d['text'].head()"
      ],
      "metadata": {
        "colab": {
          "base_uri": "https://localhost:8080/"
        },
        "id": "xewOFC8TkFEQ",
        "outputId": "e450f342-e2a6-4115-b1ff-eaa14e907935"
      },
      "execution_count": 17,
      "outputs": [
        {
          "output_type": "execute_result",
          "data": {
            "text/plain": [
              "0    people hear often think sentient robots magic ...\n",
              "1    increasing computing data potential value algo...\n",
              "2    a fan 90s film clueless youll remember protago...\n",
              "3    understanding exactly data ingested analyzed r...\n",
              "4    age modern world hunting gathering cultivating...\n",
              "Name: text, dtype: object"
            ]
          },
          "metadata": {},
          "execution_count": 17
        }
      ]
    },
    {
      "cell_type": "code",
      "source": [
        "#from textblob import TextBlob #For Grammer Correction"
      ],
      "metadata": {
        "id": "0WHRtxwUkqUz"
      },
      "execution_count": 18,
      "outputs": []
    },
    {
      "cell_type": "code",
      "source": [
        "#clean_d['text'].apply(lambda x: str(TextBlob(x).correct()))"
      ],
      "metadata": {
        "id": "PAR14X3rk-pK"
      },
      "execution_count": 19,
      "outputs": []
    },
    {
      "cell_type": "markdown",
      "source": [
        "**DEFINING FUNCTION FOR POSITIVE WORDS AND CALCULATING IT**"
      ],
      "metadata": {
        "id": "3VPp_M_e5ry1"
      }
    },
    {
      "cell_type": "code",
      "source": [
        "# Loading positive words\n",
        "with open('/content/positive-words.txt','r') as posfile:\n",
        "    positivewords=posfile.read().lower()\n",
        "positiveWordList=positivewords.split('\\n')"
      ],
      "metadata": {
        "id": "o7EMYYH-C8fX"
      },
      "execution_count": 20,
      "outputs": []
    },
    {
      "cell_type": "code",
      "source": [
        "def positive_score(text):\n",
        "    numPosWords = 0\n",
        "    rawToken = word_tokenize(text)\n",
        "    for word in rawToken:\n",
        "        if word in positiveWordList:\n",
        "            numPosWords  += 1\n",
        "    \n",
        "    sumPos = numPosWords\n",
        "    return sumPos"
      ],
      "metadata": {
        "id": "wePiQQdS4MH8"
      },
      "execution_count": 21,
      "outputs": []
    },
    {
      "cell_type": "code",
      "source": [
        "POSITIVE_SCORE=[]\n",
        "\n",
        "for words in clean_d['text']:\n",
        "  p=positive_score(words)\n",
        "  POSITIVE_SCORE.append(p)\n",
        "\n",
        "print(POSITIVE_SCORE[:5])"
      ],
      "metadata": {
        "colab": {
          "base_uri": "https://localhost:8080/"
        },
        "id": "Js7qwULsDQB6",
        "outputId": "e4b7e52b-3138-41aa-a2f9-4774f42dfd16"
      },
      "execution_count": 22,
      "outputs": [
        {
          "output_type": "stream",
          "name": "stdout",
          "text": [
            "[16, 23, 72, 13, 48]\n"
          ]
        }
      ]
    },
    {
      "cell_type": "markdown",
      "source": [
        "### **NEGATIVE SCORE**"
      ],
      "metadata": {
        "id": "iZoZmABj6XhH"
      }
    },
    {
      "cell_type": "code",
      "source": [
        "# Loading negative words\n",
        "with open('/content/negative-words.txt' ,'r',encoding=\"ISO-8859-1\") as negfile:\n",
        "    negativeword=negfile.read().lower()\n",
        "negativeWordList=negativeword.split('\\n')"
      ],
      "metadata": {
        "id": "BXAO1-YqEsSH"
      },
      "execution_count": 23,
      "outputs": []
    },
    {
      "cell_type": "code",
      "source": [
        "def negative_word(text):\n",
        "    numNegWords=0\n",
        "    rawToken = word_tokenize(text)\n",
        "    for word in rawToken:\n",
        "        if word in negativeWordList:\n",
        "            numNegWords -=1\n",
        "    sumNeg = numNegWords \n",
        "    sumNeg = sumNeg * -1\n",
        "    return sumNeg"
      ],
      "metadata": {
        "id": "bs8GYsAvDyHF"
      },
      "execution_count": 24,
      "outputs": []
    },
    {
      "cell_type": "code",
      "source": [
        "NEGATIVE_SCORE=[]\n",
        "\n",
        "for words in clean_d['text']:\n",
        "  n=negative_word(words)\n",
        "  NEGATIVE_SCORE.append(n)\n",
        "\n",
        "print(len(NEGATIVE_SCORE))"
      ],
      "metadata": {
        "colab": {
          "base_uri": "https://localhost:8080/"
        },
        "id": "AMBpITFPEXN5",
        "outputId": "b66e1d48-023e-4930-ed7e-0edd45a14294"
      },
      "execution_count": 25,
      "outputs": [
        {
          "output_type": "stream",
          "name": "stdout",
          "text": [
            "170\n"
          ]
        }
      ]
    },
    {
      "cell_type": "markdown",
      "source": [
        "###**POLARITY**"
      ],
      "metadata": {
        "id": "h6eneLKR6frw"
      }
    },
    {
      "cell_type": "code",
      "source": [
        "# Calculating polarity score\n",
        "def polarity_score(positiveScore, negativeScore):\n",
        "    pol_score = (positiveScore - negativeScore) / ((positiveScore + negativeScore) + 0.000001)\n",
        "    return pol_score"
      ],
      "metadata": {
        "id": "D2nQ0T_lF62u"
      },
      "execution_count": 26,
      "outputs": []
    },
    {
      "cell_type": "code",
      "source": [
        "POLARITY_SCORE=[]\n",
        "for (i,j) in zip(POSITIVE_SCORE,NEGATIVE_SCORE):\n",
        "  pol=polarity_score(i, j)\n",
        "  POLARITY_SCORE.append(pol)\n",
        "len(POLARITY_SCORE)"
      ],
      "metadata": {
        "colab": {
          "base_uri": "https://localhost:8080/"
        },
        "id": "h8gTmLr9GO8-",
        "outputId": "01868be5-e83b-4d76-ef02-715358c70414"
      },
      "execution_count": 27,
      "outputs": [
        {
          "output_type": "execute_result",
          "data": {
            "text/plain": [
              "170"
            ]
          },
          "metadata": {},
          "execution_count": 27
        }
      ]
    },
    {
      "cell_type": "markdown",
      "source": [
        "**SUBJECTIVE_SCORE**"
      ],
      "metadata": {
        "id": "-JUlYrnq6obW"
      }
    },
    {
      "cell_type": "code",
      "source": [
        "# Calculating Subjective score\n",
        "def subjective_Score(positiveScore, negativeScore,word):\n",
        "    sub_score = (positiveScore - negativeScore) / (len(word) + 0.000001)\n",
        "    return sub_score"
      ],
      "metadata": {
        "id": "TPFOJQGOHpcY"
      },
      "execution_count": 28,
      "outputs": []
    },
    {
      "cell_type": "code",
      "source": [
        "SUBJECTIVE_SCORE=[]\n",
        "for (i,j,w) in zip(POSITIVE_SCORE,NEGATIVE_SCORE,clean_d['text']):\n",
        "  sub=subjective_Score(i, j,w)\n",
        "  SUBJECTIVE_SCORE.append(sub)\n",
        "len(SUBJECTIVE_SCORE)"
      ],
      "metadata": {
        "colab": {
          "base_uri": "https://localhost:8080/"
        },
        "id": "XCIVFiyTGfGm",
        "outputId": "b5587a1b-0a20-4e55-9680-b19c376879e9"
      },
      "execution_count": 29,
      "outputs": [
        {
          "output_type": "execute_result",
          "data": {
            "text/plain": [
              "170"
            ]
          },
          "metadata": {},
          "execution_count": 29
        }
      ]
    },
    {
      "cell_type": "markdown",
      "source": [
        "# **READIBILITY**"
      ],
      "metadata": {
        "id": "ZUyHmZ_GPBLp"
      }
    },
    {
      "cell_type": "markdown",
      "source": [
        "**Average Number of Words Per Sentence**"
      ],
      "metadata": {
        "id": "m_yN4gdZ62IA"
      }
    },
    {
      "cell_type": "code",
      "source": [
        "# Calculating Average sentence length \n",
        "# It will calculated using formula --- Average Sentence Length = the number of words / the number of sentences\n",
        "     \n",
        "def average_sentence_length(text):\n",
        "    sentence_list = sent_tokenize(text)\n",
        "    tokens = word_tokenize(text)\n",
        "    totalWordCount = len(tokens)\n",
        "    totalSentences = len(sentence_list)\n",
        "    average_sent = 0\n",
        "    if totalSentences != 0:\n",
        "        average_sent = totalWordCount / totalSentences\n",
        "    \n",
        "    average_sent_length= average_sent\n",
        "    \n",
        "    return round(average_sent_length)"
      ],
      "metadata": {
        "id": "lDsLxgSEI1J8"
      },
      "execution_count": 30,
      "outputs": []
    },
    {
      "cell_type": "code",
      "source": [
        "AVERAGE_SENTENCE_LENGTH=[]\n",
        "for i in clean_d['text']:\n",
        "  AS=average_sentence_length(i)\n",
        "  AVERAGE_SENTENCE_LENGTH.append(AS)\n",
        "\n",
        "AVERAGE_SENTENCE_LENGTH[0:5]"
      ],
      "metadata": {
        "colab": {
          "base_uri": "https://localhost:8080/"
        },
        "id": "vRrpbVZNJu6K",
        "outputId": "ccac45ec-acaf-455d-9929-bff18335c183"
      },
      "execution_count": 31,
      "outputs": [
        {
          "output_type": "execute_result",
          "data": {
            "text/plain": [
              "[24, 19, 26, 19, 16]"
            ]
          },
          "metadata": {},
          "execution_count": 31
        }
      ]
    },
    {
      "cell_type": "markdown",
      "source": [
        "### **Percentage of complex word**"
      ],
      "metadata": {
        "id": "Easd8xm07Fh0"
      }
    },
    {
      "cell_type": "code",
      "source": [
        "# Calculating percentage of complex word \n",
        "# It is calculated using Percentage of Complex words = the number of complex words / the number of words \n",
        "\n",
        "def percentage_complex_word(text):\n",
        "    tokens = word_tokenize(text)\n",
        "    complexWord = 0\n",
        "    complex_word_percentage = 0\n",
        "    \n",
        "    for word in tokens:\n",
        "        vowels=0\n",
        "        if word.endswith(('es','ed')):\n",
        "            pass\n",
        "        else:\n",
        "            for w in word:\n",
        "                if(w=='a' or w=='e' or w=='i' or w=='o' or w=='u'):\n",
        "                    vowels += 1\n",
        "            if(vowels > 2):\n",
        "                complexWord += 1\n",
        "    if len(tokens) != 0:\n",
        "        complex_word_percentage = round(complexWord/len(tokens),4)\n",
        "    \n",
        "    return complex_word_percentage"
      ],
      "metadata": {
        "id": "AA61TkIkKWk2"
      },
      "execution_count": 32,
      "outputs": []
    },
    {
      "cell_type": "code",
      "source": [
        "COMPLEX_WORD_PERCENTAGE=[]\n",
        "for i in clean_d['text']:\n",
        "  AS=percentage_complex_word(i)\n",
        "  COMPLEX_WORD_PERCENTAGE.append(AS)\n",
        "\n",
        "COMPLEX_WORD_PERCENTAGE[:5]"
      ],
      "metadata": {
        "colab": {
          "base_uri": "https://localhost:8080/"
        },
        "id": "RzhoHLIbj8cT",
        "outputId": "df1a3f9b-18c9-41b9-bf49-2d56239e8513"
      },
      "execution_count": 33,
      "outputs": [
        {
          "output_type": "execute_result",
          "data": {
            "text/plain": [
              "[0.3457, 0.4068, 0.4429, 0.4461, 0.4156]"
            ]
          },
          "metadata": {},
          "execution_count": 33
        }
      ]
    },
    {
      "cell_type": "markdown",
      "source": [
        "**FOG INDEX**"
      ],
      "metadata": {
        "id": "6nQ8jtWl7MmA"
      }
    },
    {
      "cell_type": "code",
      "source": [
        "def fog_index(averageSentenceLength, percentageComplexWord):\n",
        "    fogIndex = 0.4 * (averageSentenceLength + percentageComplexWord)\n",
        "    return fogIndex"
      ],
      "metadata": {
        "id": "5hwcgL5HkQMj"
      },
      "execution_count": 34,
      "outputs": []
    },
    {
      "cell_type": "code",
      "source": [
        "FOG_INDEX=[]\n",
        "for (i,j) in zip(AVERAGE_SENTENCE_LENGTH,COMPLEX_WORD_PERCENTAGE):\n",
        "  pol=fog_index(i, j)\n",
        "  FOG_INDEX.append(pol)\n",
        "FOG_INDEX[0:5]"
      ],
      "metadata": {
        "colab": {
          "base_uri": "https://localhost:8080/"
        },
        "id": "3P2ngKJylDKc",
        "outputId": "f74a104f-bb7a-446b-9ed8-90ae17ea0cd7"
      },
      "execution_count": 35,
      "outputs": [
        {
          "output_type": "execute_result",
          "data": {
            "text/plain": [
              "[9.738280000000001,\n",
              " 7.762720000000001,\n",
              " 10.577160000000001,\n",
              " 7.778440000000001,\n",
              " 6.5662400000000005]"
            ]
          },
          "metadata": {},
          "execution_count": 35
        }
      ]
    },
    {
      "cell_type": "markdown",
      "source": [
        "### **Average Number of Words Per Sentence**"
      ],
      "metadata": {
        "id": "Q69U2rUW7SeM"
      }
    },
    {
      "cell_type": "code",
      "source": [
        "# Calculating Average Number of Words Per Sentence\n",
        "#Average Number of Words Per Sentence = the total number of words / the total number of sentences\n",
        "\n",
        "     \n",
        "def average_word_per_sentence(text):\n",
        "    sentence_list = sent_tokenize(text)\n",
        "    tokens = word_tokenize(text)\n",
        "    average_words = len(tokens) /len(sentence_list)\n",
        "    average_word_length= average_words\n",
        "    \n",
        "    return round(average_word_length)"
      ],
      "metadata": {
        "id": "9u3q5ZMsl5Zg"
      },
      "execution_count": 36,
      "outputs": []
    },
    {
      "cell_type": "code",
      "source": [
        "AVG_WORD_PER_SENTENCE=[]\n",
        "for i in clean_d['text']:\n",
        "  AS=average_word_per_sentence(i)\n",
        "  AVG_WORD_PER_SENTENCE.append(AS)\n",
        "\n",
        "AVG_WORD_PER_SENTENCE[:5]"
      ],
      "metadata": {
        "colab": {
          "base_uri": "https://localhost:8080/"
        },
        "id": "95tKk-AMn1xJ",
        "outputId": "6b786327-d76b-4990-e491-254594859000"
      },
      "execution_count": 37,
      "outputs": [
        {
          "output_type": "execute_result",
          "data": {
            "text/plain": [
              "[24, 19, 26, 19, 16]"
            ]
          },
          "metadata": {},
          "execution_count": 37
        }
      ]
    },
    {
      "cell_type": "markdown",
      "source": [
        "### **COMPLEX WORD COUNT**"
      ],
      "metadata": {
        "id": "cRZwvJDz7cjf"
      }
    },
    {
      "cell_type": "code",
      "source": [
        "# Counting complex words\n",
        "def complex_word_count(text):\n",
        "    tokens = word_tokenize(text)\n",
        "    complexWord = 0\n",
        "    \n",
        "    for word in tokens:\n",
        "        vowels=0\n",
        "        if word.endswith(('es','ed')):\n",
        "            pass\n",
        "        else:\n",
        "            for w in word:\n",
        "                if(w=='a' or w=='e' or w=='i' or w=='o' or w=='u'):\n",
        "                    vowels += 1\n",
        "            if(vowels > 2):\n",
        "                complexWord += 1\n",
        "    return complexWord"
      ],
      "metadata": {
        "id": "VEBF4ZxYoDHb"
      },
      "execution_count": 38,
      "outputs": []
    },
    {
      "cell_type": "code",
      "source": [
        "COMPLEX_WORD_COUNT=[]\n",
        "for i in clean_d['text']:\n",
        "  AS=complex_word_count(i)\n",
        "  COMPLEX_WORD_COUNT.append(AS)\n",
        "\n",
        "COMPLEX_WORD_COUNT[:5]"
      ],
      "metadata": {
        "colab": {
          "base_uri": "https://localhost:8080/"
        },
        "id": "4_OIXlEzoUj9",
        "outputId": "62659cdc-c0a5-463b-fc41-74b9ae4ff6ed"
      },
      "execution_count": 39,
      "outputs": [
        {
          "output_type": "execute_result",
          "data": {
            "text/plain": [
              "[149, 155, 469, 120, 293]"
            ]
          },
          "metadata": {},
          "execution_count": 39
        }
      ]
    },
    {
      "cell_type": "markdown",
      "source": [
        "### **WORD COUNT**"
      ],
      "metadata": {
        "id": "xIxTTvfb7h-1"
      }
    },
    {
      "cell_type": "code",
      "source": [
        "def word_count(text):\n",
        "  words = word_tokenize(text)\n",
        "  no_of_words=len(words)\n",
        "  w_c=no_of_words\n",
        "  return(w_c)"
      ],
      "metadata": {
        "id": "rRkeHDgjod1G"
      },
      "execution_count": 40,
      "outputs": []
    },
    {
      "cell_type": "code",
      "source": [
        "WORD_COUNT=[]\n",
        "for i in clean_d['text']:\n",
        "  AS=word_count(i)\n",
        "  WORD_COUNT.append(AS)\n",
        "\n",
        "WORD_COUNT[:5]"
      ],
      "metadata": {
        "colab": {
          "base_uri": "https://localhost:8080/"
        },
        "id": "OlXUU6nMpB3K",
        "outputId": "63157766-000c-4276-9e96-2d083e1b952f"
      },
      "execution_count": 41,
      "outputs": [
        {
          "output_type": "execute_result",
          "data": {
            "text/plain": [
              "[431, 381, 1059, 269, 705]"
            ]
          },
          "metadata": {},
          "execution_count": 41
        }
      ]
    },
    {
      "cell_type": "markdown",
      "source": [
        "### **SYLLABLE_PER_WORD**"
      ],
      "metadata": {
        "id": "mcnnv0Nm7pyn"
      }
    },
    {
      "cell_type": "code",
      "source": [
        "def syllable_per_word(text):\n",
        "    words = word_tokenize(text)\n",
        "    syllableCount_per_word = 0\n",
        "    for word in words:\n",
        "        syllableCount=0\n",
        "        if word.endswith(('es','ed')):\n",
        "            pass\n",
        "        else:\n",
        "            for w in word:\n",
        "                if(w=='a' or w=='e' or w=='i' or w=='o' or w=='u'):\n",
        "                    syllableCount += 1\n",
        "        syllableCount_per_word = round(syllableCount/len(words),6)\n",
        "    \n",
        "    return syllableCount_per_word"
      ],
      "metadata": {
        "id": "1P4xtQJGpKQo"
      },
      "execution_count": 42,
      "outputs": []
    },
    {
      "cell_type": "code",
      "source": [
        "SYLLABLE_PER_WORD=[]\n",
        "for i in clean_d['text']:\n",
        "  AS=syllable_per_word(i)\n",
        "  SYLLABLE_PER_WORD.append(AS)\n",
        "\n",
        "SYLLABLE_PER_WORD[:5]"
      ],
      "metadata": {
        "colab": {
          "base_uri": "https://localhost:8080/"
        },
        "id": "2Me0LHnTtFG2",
        "outputId": "011eacda-471d-42c2-f489-2385b94d8011"
      },
      "execution_count": 43,
      "outputs": [
        {
          "output_type": "execute_result",
          "data": {
            "text/plain": [
              "[0.006961, 0.007874, 0.0, 0.011152, 0.002837]"
            ]
          },
          "metadata": {},
          "execution_count": 43
        }
      ]
    },
    {
      "cell_type": "markdown",
      "source": [
        "### **PRONOUNS COUNT**"
      ],
      "metadata": {
        "id": "pabhngeS7xeH"
      }
    },
    {
      "cell_type": "code",
      "source": [
        "def count_pronoun(word):\n",
        "  pronounRegex = re.compile(r'\\bI\\b|\\bwe\\b|\\bWe\\b|\\bmy\\b|\\bMy\\b|\\bours\\b|\\bus\\b')\n",
        "  pronouns = pronounRegex.findall(word)\n",
        "  return len(pronouns)"
      ],
      "metadata": {
        "id": "qfHSawLstTs6"
      },
      "execution_count": 44,
      "outputs": []
    },
    {
      "cell_type": "code",
      "source": [
        "Numbers_pronoun=[]\n",
        "for i in clean_d['text']:\n",
        "  AS=count_pronoun(i)\n",
        "  Numbers_pronoun.append(AS)"
      ],
      "metadata": {
        "id": "2yrXczB0vKrt"
      },
      "execution_count": 45,
      "outputs": []
    },
    {
      "cell_type": "code",
      "source": [
        "Numbers_pronoun[0:5]"
      ],
      "metadata": {
        "colab": {
          "base_uri": "https://localhost:8080/"
        },
        "id": "QIaQdms2vUGw",
        "outputId": "ab727538-1fa9-471a-a209-2de2734bcaf9"
      },
      "execution_count": 46,
      "outputs": [
        {
          "output_type": "execute_result",
          "data": {
            "text/plain": [
              "[0, 0, 2, 0, 6]"
            ]
          },
          "metadata": {},
          "execution_count": 46
        }
      ]
    },
    {
      "cell_type": "markdown",
      "source": [
        "### **Average Word Length**"
      ],
      "metadata": {
        "id": "2FrmD3KK8DQQ"
      }
    },
    {
      "cell_type": "code",
      "source": [
        "#Average Word Length is calculated by the formula:\n",
        "#Sum of the total number of characters in each word/Total number of words\n",
        "\n",
        "def Avg_Word_Length(text):\n",
        "  words = word_tokenize(text)\n",
        "  no_of_words=len(words)\n",
        "  sum_of_total_chr=0\n",
        "  AVG=0\n",
        "  for i in words:\n",
        "    if i !=\" \":\n",
        "      sum_of_total_chr +=len(i)\n",
        "    AVG = round(sum_of_total_chr/no_of_words,2)\n",
        "  return(AVG)\n"
      ],
      "metadata": {
        "id": "eZMv6L4vwkSh"
      },
      "execution_count": 47,
      "outputs": []
    },
    {
      "cell_type": "code",
      "source": [
        "AVERAGE_WORD_LENGTH=[]\n",
        "for i in clean_d['text']:\n",
        "  AS=Avg_Word_Length(i)\n",
        "  AVERAGE_WORD_LENGTH.append(AS)\n",
        "AVERAGE_WORD_LENGTH[0:5]"
      ],
      "metadata": {
        "colab": {
          "base_uri": "https://localhost:8080/"
        },
        "id": "CVmmzXf5y7dW",
        "outputId": "3e2e8ad8-72ee-4215-9d89-eabfa7d1ae37"
      },
      "execution_count": 48,
      "outputs": [
        {
          "output_type": "execute_result",
          "data": {
            "text/plain": [
              "[6.52, 6.76, 7.07, 6.62, 6.5]"
            ]
          },
          "metadata": {},
          "execution_count": 48
        }
      ]
    },
    {
      "cell_type": "markdown",
      "source": [
        "# **OUTPUT**"
      ],
      "metadata": {
        "id": "syDbtRfB8Y4Y"
      }
    },
    {
      "cell_type": "code",
      "source": [
        "output=pd.read_excel('/content/Output Data Structure.xlsx')"
      ],
      "metadata": {
        "id": "NXP5NTtmzJRA"
      },
      "execution_count": 49,
      "outputs": []
    },
    {
      "cell_type": "code",
      "source": [
        "output.columns"
      ],
      "metadata": {
        "colab": {
          "base_uri": "https://localhost:8080/"
        },
        "id": "xRZ3LU9A8qBj",
        "outputId": "8dd72da3-9b4d-4f28-e80f-bfbc4b634561"
      },
      "execution_count": 50,
      "outputs": [
        {
          "output_type": "execute_result",
          "data": {
            "text/plain": [
              "Index(['URL_ID', 'URL', 'POSITIVE SCORE', 'NEGATIVE SCORE', 'POLARITY SCORE',\n",
              "       'SUBJECTIVITY SCORE', 'AVG SENTENCE LENGTH',\n",
              "       'PERCENTAGE OF COMPLEX WORDS', 'FOG INDEX',\n",
              "       'AVG NUMBER OF WORDS PER SENTENCE', 'COMPLEX WORD COUNT', 'WORD COUNT',\n",
              "       'SYLLABLE PER WORD', 'PERSONAL PRONOUNS', 'AVG WORD LENGTH'],\n",
              "      dtype='object')"
            ]
          },
          "metadata": {},
          "execution_count": 50
        }
      ]
    },
    {
      "cell_type": "code",
      "source": [
        "output['POSITIVE SCORE']=POSITIVE_SCORE\n",
        "output['NEGATIVE SCORE']=NEGATIVE_SCORE\n",
        "output['POLARITY SCORE']=POLARITY_SCORE\n",
        "output['SUBJECTIVITY SCORE']=SUBJECTIVE_SCORE\n",
        "output['AVG SENTENCE LENGTH']=AVERAGE_SENTENCE_LENGTH\n",
        "output['PERCENTAGE OF COMPLEX WORDS']=COMPLEX_WORD_PERCENTAGE\n",
        "output['FOG INDEX']=FOG_INDEX\n",
        "output['AVG NUMBER OF WORDS PER SENTENCE']=AVG_WORD_PER_SENTENCE\n",
        "output['COMPLEX WORD COUNT']=COMPLEX_WORD_COUNT\n",
        "output['WORD COUNT']=WORD_COUNT\n",
        "output['SYLLABLE PER WORD']=SYLLABLE_PER_WORD\n",
        "output['PERSONAL PRONOUNS']=Numbers_pronoun\n",
        "output['AVG WORD LENGTH']=AVERAGE_WORD_LENGTH\n"
      ],
      "metadata": {
        "id": "8LHk9S-28t95"
      },
      "execution_count": 51,
      "outputs": []
    },
    {
      "cell_type": "code",
      "source": [
        "output.head()"
      ],
      "metadata": {
        "colab": {
          "base_uri": "https://localhost:8080/",
          "height": 354
        },
        "id": "YaeZ4YkA9AEd",
        "outputId": "3a2363f2-385b-4537-c430-68966386c93e"
      },
      "execution_count": 52,
      "outputs": [
        {
          "output_type": "execute_result",
          "data": {
            "text/plain": [
              "   URL_ID                                                URL  POSITIVE SCORE  \\\n",
              "0     1.0  https://insights.blackcoffer.com/how-is-login-...              16   \n",
              "1     2.0  https://insights.blackcoffer.com/how-does-ai-h...              23   \n",
              "2     3.0  https://insights.blackcoffer.com/ai-and-its-im...              72   \n",
              "3     4.0  https://insights.blackcoffer.com/how-do-deep-l...              13   \n",
              "4     5.0  https://insights.blackcoffer.com/how-artificia...              48   \n",
              "\n",
              "   NEGATIVE SCORE  POLARITY SCORE  SUBJECTIVITY SCORE  AVG SENTENCE LENGTH  \\\n",
              "0               8        0.333333            0.002482                   24   \n",
              "1               3        0.769231            0.006810                   19   \n",
              "2              18        0.600000            0.006351                   26   \n",
              "3               0        1.000000            0.006382                   19   \n",
              "4              13        0.573770            0.006677                   16   \n",
              "\n",
              "   PERCENTAGE OF COMPLEX WORDS  FOG INDEX  AVG NUMBER OF WORDS PER SENTENCE  \\\n",
              "0                       0.3457    9.73828                                24   \n",
              "1                       0.4068    7.76272                                19   \n",
              "2                       0.4429   10.57716                                26   \n",
              "3                       0.4461    7.77844                                19   \n",
              "4                       0.4156    6.56624                                16   \n",
              "\n",
              "   COMPLEX WORD COUNT  WORD COUNT  SYLLABLE PER WORD  PERSONAL PRONOUNS  \\\n",
              "0                 149         431           0.006961                  0   \n",
              "1                 155         381           0.007874                  0   \n",
              "2                 469        1059           0.000000                  2   \n",
              "3                 120         269           0.011152                  0   \n",
              "4                 293         705           0.002837                  6   \n",
              "\n",
              "   AVG WORD LENGTH  \n",
              "0             6.52  \n",
              "1             6.76  \n",
              "2             7.07  \n",
              "3             6.62  \n",
              "4             6.50  "
            ],
            "text/html": [
              "\n",
              "  <div id=\"df-e0d35d10-3592-4215-b751-7e2e710b387b\">\n",
              "    <div class=\"colab-df-container\">\n",
              "      <div>\n",
              "<style scoped>\n",
              "    .dataframe tbody tr th:only-of-type {\n",
              "        vertical-align: middle;\n",
              "    }\n",
              "\n",
              "    .dataframe tbody tr th {\n",
              "        vertical-align: top;\n",
              "    }\n",
              "\n",
              "    .dataframe thead th {\n",
              "        text-align: right;\n",
              "    }\n",
              "</style>\n",
              "<table border=\"1\" class=\"dataframe\">\n",
              "  <thead>\n",
              "    <tr style=\"text-align: right;\">\n",
              "      <th></th>\n",
              "      <th>URL_ID</th>\n",
              "      <th>URL</th>\n",
              "      <th>POSITIVE SCORE</th>\n",
              "      <th>NEGATIVE SCORE</th>\n",
              "      <th>POLARITY SCORE</th>\n",
              "      <th>SUBJECTIVITY SCORE</th>\n",
              "      <th>AVG SENTENCE LENGTH</th>\n",
              "      <th>PERCENTAGE OF COMPLEX WORDS</th>\n",
              "      <th>FOG INDEX</th>\n",
              "      <th>AVG NUMBER OF WORDS PER SENTENCE</th>\n",
              "      <th>COMPLEX WORD COUNT</th>\n",
              "      <th>WORD COUNT</th>\n",
              "      <th>SYLLABLE PER WORD</th>\n",
              "      <th>PERSONAL PRONOUNS</th>\n",
              "      <th>AVG WORD LENGTH</th>\n",
              "    </tr>\n",
              "  </thead>\n",
              "  <tbody>\n",
              "    <tr>\n",
              "      <th>0</th>\n",
              "      <td>1.0</td>\n",
              "      <td>https://insights.blackcoffer.com/how-is-login-...</td>\n",
              "      <td>16</td>\n",
              "      <td>8</td>\n",
              "      <td>0.333333</td>\n",
              "      <td>0.002482</td>\n",
              "      <td>24</td>\n",
              "      <td>0.3457</td>\n",
              "      <td>9.73828</td>\n",
              "      <td>24</td>\n",
              "      <td>149</td>\n",
              "      <td>431</td>\n",
              "      <td>0.006961</td>\n",
              "      <td>0</td>\n",
              "      <td>6.52</td>\n",
              "    </tr>\n",
              "    <tr>\n",
              "      <th>1</th>\n",
              "      <td>2.0</td>\n",
              "      <td>https://insights.blackcoffer.com/how-does-ai-h...</td>\n",
              "      <td>23</td>\n",
              "      <td>3</td>\n",
              "      <td>0.769231</td>\n",
              "      <td>0.006810</td>\n",
              "      <td>19</td>\n",
              "      <td>0.4068</td>\n",
              "      <td>7.76272</td>\n",
              "      <td>19</td>\n",
              "      <td>155</td>\n",
              "      <td>381</td>\n",
              "      <td>0.007874</td>\n",
              "      <td>0</td>\n",
              "      <td>6.76</td>\n",
              "    </tr>\n",
              "    <tr>\n",
              "      <th>2</th>\n",
              "      <td>3.0</td>\n",
              "      <td>https://insights.blackcoffer.com/ai-and-its-im...</td>\n",
              "      <td>72</td>\n",
              "      <td>18</td>\n",
              "      <td>0.600000</td>\n",
              "      <td>0.006351</td>\n",
              "      <td>26</td>\n",
              "      <td>0.4429</td>\n",
              "      <td>10.57716</td>\n",
              "      <td>26</td>\n",
              "      <td>469</td>\n",
              "      <td>1059</td>\n",
              "      <td>0.000000</td>\n",
              "      <td>2</td>\n",
              "      <td>7.07</td>\n",
              "    </tr>\n",
              "    <tr>\n",
              "      <th>3</th>\n",
              "      <td>4.0</td>\n",
              "      <td>https://insights.blackcoffer.com/how-do-deep-l...</td>\n",
              "      <td>13</td>\n",
              "      <td>0</td>\n",
              "      <td>1.000000</td>\n",
              "      <td>0.006382</td>\n",
              "      <td>19</td>\n",
              "      <td>0.4461</td>\n",
              "      <td>7.77844</td>\n",
              "      <td>19</td>\n",
              "      <td>120</td>\n",
              "      <td>269</td>\n",
              "      <td>0.011152</td>\n",
              "      <td>0</td>\n",
              "      <td>6.62</td>\n",
              "    </tr>\n",
              "    <tr>\n",
              "      <th>4</th>\n",
              "      <td>5.0</td>\n",
              "      <td>https://insights.blackcoffer.com/how-artificia...</td>\n",
              "      <td>48</td>\n",
              "      <td>13</td>\n",
              "      <td>0.573770</td>\n",
              "      <td>0.006677</td>\n",
              "      <td>16</td>\n",
              "      <td>0.4156</td>\n",
              "      <td>6.56624</td>\n",
              "      <td>16</td>\n",
              "      <td>293</td>\n",
              "      <td>705</td>\n",
              "      <td>0.002837</td>\n",
              "      <td>6</td>\n",
              "      <td>6.50</td>\n",
              "    </tr>\n",
              "  </tbody>\n",
              "</table>\n",
              "</div>\n",
              "      <button class=\"colab-df-convert\" onclick=\"convertToInteractive('df-e0d35d10-3592-4215-b751-7e2e710b387b')\"\n",
              "              title=\"Convert this dataframe to an interactive table.\"\n",
              "              style=\"display:none;\">\n",
              "        \n",
              "  <svg xmlns=\"http://www.w3.org/2000/svg\" height=\"24px\"viewBox=\"0 0 24 24\"\n",
              "       width=\"24px\">\n",
              "    <path d=\"M0 0h24v24H0V0z\" fill=\"none\"/>\n",
              "    <path d=\"M18.56 5.44l.94 2.06.94-2.06 2.06-.94-2.06-.94-.94-2.06-.94 2.06-2.06.94zm-11 1L8.5 8.5l.94-2.06 2.06-.94-2.06-.94L8.5 2.5l-.94 2.06-2.06.94zm10 10l.94 2.06.94-2.06 2.06-.94-2.06-.94-.94-2.06-.94 2.06-2.06.94z\"/><path d=\"M17.41 7.96l-1.37-1.37c-.4-.4-.92-.59-1.43-.59-.52 0-1.04.2-1.43.59L10.3 9.45l-7.72 7.72c-.78.78-.78 2.05 0 2.83L4 21.41c.39.39.9.59 1.41.59.51 0 1.02-.2 1.41-.59l7.78-7.78 2.81-2.81c.8-.78.8-2.07 0-2.86zM5.41 20L4 18.59l7.72-7.72 1.47 1.35L5.41 20z\"/>\n",
              "  </svg>\n",
              "      </button>\n",
              "      \n",
              "  <style>\n",
              "    .colab-df-container {\n",
              "      display:flex;\n",
              "      flex-wrap:wrap;\n",
              "      gap: 12px;\n",
              "    }\n",
              "\n",
              "    .colab-df-convert {\n",
              "      background-color: #E8F0FE;\n",
              "      border: none;\n",
              "      border-radius: 50%;\n",
              "      cursor: pointer;\n",
              "      display: none;\n",
              "      fill: #1967D2;\n",
              "      height: 32px;\n",
              "      padding: 0 0 0 0;\n",
              "      width: 32px;\n",
              "    }\n",
              "\n",
              "    .colab-df-convert:hover {\n",
              "      background-color: #E2EBFA;\n",
              "      box-shadow: 0px 1px 2px rgba(60, 64, 67, 0.3), 0px 1px 3px 1px rgba(60, 64, 67, 0.15);\n",
              "      fill: #174EA6;\n",
              "    }\n",
              "\n",
              "    [theme=dark] .colab-df-convert {\n",
              "      background-color: #3B4455;\n",
              "      fill: #D2E3FC;\n",
              "    }\n",
              "\n",
              "    [theme=dark] .colab-df-convert:hover {\n",
              "      background-color: #434B5C;\n",
              "      box-shadow: 0px 1px 3px 1px rgba(0, 0, 0, 0.15);\n",
              "      filter: drop-shadow(0px 1px 2px rgba(0, 0, 0, 0.3));\n",
              "      fill: #FFFFFF;\n",
              "    }\n",
              "  </style>\n",
              "\n",
              "      <script>\n",
              "        const buttonEl =\n",
              "          document.querySelector('#df-e0d35d10-3592-4215-b751-7e2e710b387b button.colab-df-convert');\n",
              "        buttonEl.style.display =\n",
              "          google.colab.kernel.accessAllowed ? 'block' : 'none';\n",
              "\n",
              "        async function convertToInteractive(key) {\n",
              "          const element = document.querySelector('#df-e0d35d10-3592-4215-b751-7e2e710b387b');\n",
              "          const dataTable =\n",
              "            await google.colab.kernel.invokeFunction('convertToInteractive',\n",
              "                                                     [key], {});\n",
              "          if (!dataTable) return;\n",
              "\n",
              "          const docLinkHtml = 'Like what you see? Visit the ' +\n",
              "            '<a target=\"_blank\" href=https://colab.research.google.com/notebooks/data_table.ipynb>data table notebook</a>'\n",
              "            + ' to learn more about interactive tables.';\n",
              "          element.innerHTML = '';\n",
              "          dataTable['output_type'] = 'display_data';\n",
              "          await google.colab.output.renderOutput(dataTable, element);\n",
              "          const docLink = document.createElement('div');\n",
              "          docLink.innerHTML = docLinkHtml;\n",
              "          element.appendChild(docLink);\n",
              "        }\n",
              "      </script>\n",
              "    </div>\n",
              "  </div>\n",
              "  "
            ]
          },
          "metadata": {},
          "execution_count": 52
        }
      ]
    },
    {
      "cell_type": "code",
      "source": [
        "output.shape"
      ],
      "metadata": {
        "colab": {
          "base_uri": "https://localhost:8080/"
        },
        "id": "EJ5g5pCfC3GN",
        "outputId": "11d7daf3-8363-48c4-b809-da44a7033c6e"
      },
      "execution_count": 53,
      "outputs": [
        {
          "output_type": "execute_result",
          "data": {
            "text/plain": [
              "(170, 15)"
            ]
          },
          "metadata": {},
          "execution_count": 53
        }
      ]
    },
    {
      "cell_type": "markdown",
      "source": [
        "# **STATISTICAL SUMMARY OF OUTPUT**"
      ],
      "metadata": {
        "id": "oUYZi0DHDDtJ"
      }
    },
    {
      "cell_type": "code",
      "source": [
        "output.describe().T"
      ],
      "metadata": {
        "colab": {
          "base_uri": "https://localhost:8080/",
          "height": 488
        },
        "id": "jmvt-pyAC7m2",
        "outputId": "19fbf731-233f-402a-d073-f2cf30029ef1"
      },
      "execution_count": 54,
      "outputs": [
        {
          "output_type": "execute_result",
          "data": {
            "text/plain": [
              "                                  count        mean         std        min  \\\n",
              "URL_ID                            170.0   85.500000   49.218899   1.000000   \n",
              "POSITIVE SCORE                    170.0   34.205882   18.412402   1.000000   \n",
              "NEGATIVE SCORE                    170.0   25.547059   19.753230   0.000000   \n",
              "POLARITY SCORE                    170.0    0.198493    0.401978  -0.857143   \n",
              "SUBJECTIVITY SCORE                170.0    0.001843    0.004739  -0.010247   \n",
              "AVG SENTENCE LENGTH               170.0   20.858824   17.489576   9.000000   \n",
              "PERCENTAGE OF COMPLEX WORDS       170.0    0.384538    0.051789   0.196300   \n",
              "FOG INDEX                         170.0    8.497344    6.998245   3.709760   \n",
              "AVG NUMBER OF WORDS PER SENTENCE  170.0   20.858824   17.489576   9.000000   \n",
              "COMPLEX WORD COUNT                170.0  247.488235  110.876883  32.000000   \n",
              "WORD COUNT                        170.0  644.447059  282.918894  86.000000   \n",
              "SYLLABLE PER WORD                 170.0    0.004512    0.004687   0.000000   \n",
              "PERSONAL PRONOUNS                 170.0    1.464706    2.213846   0.000000   \n",
              "AVG WORD LENGTH                   170.0    6.610824    0.452308   5.470000   \n",
              "\n",
              "                                         25%         50%         75%  \\\n",
              "URL_ID                             43.250000   85.500000  127.750000   \n",
              "POSITIVE SCORE                     22.000000   33.000000   45.000000   \n",
              "NEGATIVE SCORE                     10.000000   21.000000   37.750000   \n",
              "POLARITY SCORE                     -0.134440    0.224163    0.500000   \n",
              "SUBJECTIVITY SCORE                 -0.001825    0.002176    0.005317   \n",
              "AVG SENTENCE LENGTH                15.000000   18.000000   21.000000   \n",
              "PERCENTAGE OF COMPLEX WORDS         0.354550    0.381750    0.423850   \n",
              "FOG INDEX                           6.164770    7.366740    8.573000   \n",
              "AVG NUMBER OF WORDS PER SENTENCE   15.000000   18.000000   21.000000   \n",
              "COMPLEX WORD COUNT                166.000000  237.000000  326.750000   \n",
              "WORD COUNT                        433.000000  626.000000  862.750000   \n",
              "SYLLABLE PER WORD                   0.002045    0.003846    0.005428   \n",
              "PERSONAL PRONOUNS                   0.000000    1.000000    2.000000   \n",
              "AVG WORD LENGTH                     6.330000    6.555000    6.917500   \n",
              "\n",
              "                                          max  \n",
              "URL_ID                             170.000000  \n",
              "POSITIVE SCORE                      98.000000  \n",
              "NEGATIVE SCORE                      91.000000  \n",
              "POLARITY SCORE                       1.000000  \n",
              "SUBJECTIVITY SCORE                   0.014901  \n",
              "AVG SENTENCE LENGTH                171.000000  \n",
              "PERCENTAGE OF COMPLEX WORDS          0.503700  \n",
              "FOG INDEX                           68.575440  \n",
              "AVG NUMBER OF WORDS PER SENTENCE   171.000000  \n",
              "COMPLEX WORD COUNT                 528.000000  \n",
              "WORD COUNT                        1854.000000  \n",
              "SYLLABLE PER WORD                    0.035480  \n",
              "PERSONAL PRONOUNS                   16.000000  \n",
              "AVG WORD LENGTH                      7.740000  "
            ],
            "text/html": [
              "\n",
              "  <div id=\"df-4becc3ae-2e27-481f-a94a-cec4bbd82eef\">\n",
              "    <div class=\"colab-df-container\">\n",
              "      <div>\n",
              "<style scoped>\n",
              "    .dataframe tbody tr th:only-of-type {\n",
              "        vertical-align: middle;\n",
              "    }\n",
              "\n",
              "    .dataframe tbody tr th {\n",
              "        vertical-align: top;\n",
              "    }\n",
              "\n",
              "    .dataframe thead th {\n",
              "        text-align: right;\n",
              "    }\n",
              "</style>\n",
              "<table border=\"1\" class=\"dataframe\">\n",
              "  <thead>\n",
              "    <tr style=\"text-align: right;\">\n",
              "      <th></th>\n",
              "      <th>count</th>\n",
              "      <th>mean</th>\n",
              "      <th>std</th>\n",
              "      <th>min</th>\n",
              "      <th>25%</th>\n",
              "      <th>50%</th>\n",
              "      <th>75%</th>\n",
              "      <th>max</th>\n",
              "    </tr>\n",
              "  </thead>\n",
              "  <tbody>\n",
              "    <tr>\n",
              "      <th>URL_ID</th>\n",
              "      <td>170.0</td>\n",
              "      <td>85.500000</td>\n",
              "      <td>49.218899</td>\n",
              "      <td>1.000000</td>\n",
              "      <td>43.250000</td>\n",
              "      <td>85.500000</td>\n",
              "      <td>127.750000</td>\n",
              "      <td>170.000000</td>\n",
              "    </tr>\n",
              "    <tr>\n",
              "      <th>POSITIVE SCORE</th>\n",
              "      <td>170.0</td>\n",
              "      <td>34.205882</td>\n",
              "      <td>18.412402</td>\n",
              "      <td>1.000000</td>\n",
              "      <td>22.000000</td>\n",
              "      <td>33.000000</td>\n",
              "      <td>45.000000</td>\n",
              "      <td>98.000000</td>\n",
              "    </tr>\n",
              "    <tr>\n",
              "      <th>NEGATIVE SCORE</th>\n",
              "      <td>170.0</td>\n",
              "      <td>25.547059</td>\n",
              "      <td>19.753230</td>\n",
              "      <td>0.000000</td>\n",
              "      <td>10.000000</td>\n",
              "      <td>21.000000</td>\n",
              "      <td>37.750000</td>\n",
              "      <td>91.000000</td>\n",
              "    </tr>\n",
              "    <tr>\n",
              "      <th>POLARITY SCORE</th>\n",
              "      <td>170.0</td>\n",
              "      <td>0.198493</td>\n",
              "      <td>0.401978</td>\n",
              "      <td>-0.857143</td>\n",
              "      <td>-0.134440</td>\n",
              "      <td>0.224163</td>\n",
              "      <td>0.500000</td>\n",
              "      <td>1.000000</td>\n",
              "    </tr>\n",
              "    <tr>\n",
              "      <th>SUBJECTIVITY SCORE</th>\n",
              "      <td>170.0</td>\n",
              "      <td>0.001843</td>\n",
              "      <td>0.004739</td>\n",
              "      <td>-0.010247</td>\n",
              "      <td>-0.001825</td>\n",
              "      <td>0.002176</td>\n",
              "      <td>0.005317</td>\n",
              "      <td>0.014901</td>\n",
              "    </tr>\n",
              "    <tr>\n",
              "      <th>AVG SENTENCE LENGTH</th>\n",
              "      <td>170.0</td>\n",
              "      <td>20.858824</td>\n",
              "      <td>17.489576</td>\n",
              "      <td>9.000000</td>\n",
              "      <td>15.000000</td>\n",
              "      <td>18.000000</td>\n",
              "      <td>21.000000</td>\n",
              "      <td>171.000000</td>\n",
              "    </tr>\n",
              "    <tr>\n",
              "      <th>PERCENTAGE OF COMPLEX WORDS</th>\n",
              "      <td>170.0</td>\n",
              "      <td>0.384538</td>\n",
              "      <td>0.051789</td>\n",
              "      <td>0.196300</td>\n",
              "      <td>0.354550</td>\n",
              "      <td>0.381750</td>\n",
              "      <td>0.423850</td>\n",
              "      <td>0.503700</td>\n",
              "    </tr>\n",
              "    <tr>\n",
              "      <th>FOG INDEX</th>\n",
              "      <td>170.0</td>\n",
              "      <td>8.497344</td>\n",
              "      <td>6.998245</td>\n",
              "      <td>3.709760</td>\n",
              "      <td>6.164770</td>\n",
              "      <td>7.366740</td>\n",
              "      <td>8.573000</td>\n",
              "      <td>68.575440</td>\n",
              "    </tr>\n",
              "    <tr>\n",
              "      <th>AVG NUMBER OF WORDS PER SENTENCE</th>\n",
              "      <td>170.0</td>\n",
              "      <td>20.858824</td>\n",
              "      <td>17.489576</td>\n",
              "      <td>9.000000</td>\n",
              "      <td>15.000000</td>\n",
              "      <td>18.000000</td>\n",
              "      <td>21.000000</td>\n",
              "      <td>171.000000</td>\n",
              "    </tr>\n",
              "    <tr>\n",
              "      <th>COMPLEX WORD COUNT</th>\n",
              "      <td>170.0</td>\n",
              "      <td>247.488235</td>\n",
              "      <td>110.876883</td>\n",
              "      <td>32.000000</td>\n",
              "      <td>166.000000</td>\n",
              "      <td>237.000000</td>\n",
              "      <td>326.750000</td>\n",
              "      <td>528.000000</td>\n",
              "    </tr>\n",
              "    <tr>\n",
              "      <th>WORD COUNT</th>\n",
              "      <td>170.0</td>\n",
              "      <td>644.447059</td>\n",
              "      <td>282.918894</td>\n",
              "      <td>86.000000</td>\n",
              "      <td>433.000000</td>\n",
              "      <td>626.000000</td>\n",
              "      <td>862.750000</td>\n",
              "      <td>1854.000000</td>\n",
              "    </tr>\n",
              "    <tr>\n",
              "      <th>SYLLABLE PER WORD</th>\n",
              "      <td>170.0</td>\n",
              "      <td>0.004512</td>\n",
              "      <td>0.004687</td>\n",
              "      <td>0.000000</td>\n",
              "      <td>0.002045</td>\n",
              "      <td>0.003846</td>\n",
              "      <td>0.005428</td>\n",
              "      <td>0.035480</td>\n",
              "    </tr>\n",
              "    <tr>\n",
              "      <th>PERSONAL PRONOUNS</th>\n",
              "      <td>170.0</td>\n",
              "      <td>1.464706</td>\n",
              "      <td>2.213846</td>\n",
              "      <td>0.000000</td>\n",
              "      <td>0.000000</td>\n",
              "      <td>1.000000</td>\n",
              "      <td>2.000000</td>\n",
              "      <td>16.000000</td>\n",
              "    </tr>\n",
              "    <tr>\n",
              "      <th>AVG WORD LENGTH</th>\n",
              "      <td>170.0</td>\n",
              "      <td>6.610824</td>\n",
              "      <td>0.452308</td>\n",
              "      <td>5.470000</td>\n",
              "      <td>6.330000</td>\n",
              "      <td>6.555000</td>\n",
              "      <td>6.917500</td>\n",
              "      <td>7.740000</td>\n",
              "    </tr>\n",
              "  </tbody>\n",
              "</table>\n",
              "</div>\n",
              "      <button class=\"colab-df-convert\" onclick=\"convertToInteractive('df-4becc3ae-2e27-481f-a94a-cec4bbd82eef')\"\n",
              "              title=\"Convert this dataframe to an interactive table.\"\n",
              "              style=\"display:none;\">\n",
              "        \n",
              "  <svg xmlns=\"http://www.w3.org/2000/svg\" height=\"24px\"viewBox=\"0 0 24 24\"\n",
              "       width=\"24px\">\n",
              "    <path d=\"M0 0h24v24H0V0z\" fill=\"none\"/>\n",
              "    <path d=\"M18.56 5.44l.94 2.06.94-2.06 2.06-.94-2.06-.94-.94-2.06-.94 2.06-2.06.94zm-11 1L8.5 8.5l.94-2.06 2.06-.94-2.06-.94L8.5 2.5l-.94 2.06-2.06.94zm10 10l.94 2.06.94-2.06 2.06-.94-2.06-.94-.94-2.06-.94 2.06-2.06.94z\"/><path d=\"M17.41 7.96l-1.37-1.37c-.4-.4-.92-.59-1.43-.59-.52 0-1.04.2-1.43.59L10.3 9.45l-7.72 7.72c-.78.78-.78 2.05 0 2.83L4 21.41c.39.39.9.59 1.41.59.51 0 1.02-.2 1.41-.59l7.78-7.78 2.81-2.81c.8-.78.8-2.07 0-2.86zM5.41 20L4 18.59l7.72-7.72 1.47 1.35L5.41 20z\"/>\n",
              "  </svg>\n",
              "      </button>\n",
              "      \n",
              "  <style>\n",
              "    .colab-df-container {\n",
              "      display:flex;\n",
              "      flex-wrap:wrap;\n",
              "      gap: 12px;\n",
              "    }\n",
              "\n",
              "    .colab-df-convert {\n",
              "      background-color: #E8F0FE;\n",
              "      border: none;\n",
              "      border-radius: 50%;\n",
              "      cursor: pointer;\n",
              "      display: none;\n",
              "      fill: #1967D2;\n",
              "      height: 32px;\n",
              "      padding: 0 0 0 0;\n",
              "      width: 32px;\n",
              "    }\n",
              "\n",
              "    .colab-df-convert:hover {\n",
              "      background-color: #E2EBFA;\n",
              "      box-shadow: 0px 1px 2px rgba(60, 64, 67, 0.3), 0px 1px 3px 1px rgba(60, 64, 67, 0.15);\n",
              "      fill: #174EA6;\n",
              "    }\n",
              "\n",
              "    [theme=dark] .colab-df-convert {\n",
              "      background-color: #3B4455;\n",
              "      fill: #D2E3FC;\n",
              "    }\n",
              "\n",
              "    [theme=dark] .colab-df-convert:hover {\n",
              "      background-color: #434B5C;\n",
              "      box-shadow: 0px 1px 3px 1px rgba(0, 0, 0, 0.15);\n",
              "      filter: drop-shadow(0px 1px 2px rgba(0, 0, 0, 0.3));\n",
              "      fill: #FFFFFF;\n",
              "    }\n",
              "  </style>\n",
              "\n",
              "      <script>\n",
              "        const buttonEl =\n",
              "          document.querySelector('#df-4becc3ae-2e27-481f-a94a-cec4bbd82eef button.colab-df-convert');\n",
              "        buttonEl.style.display =\n",
              "          google.colab.kernel.accessAllowed ? 'block' : 'none';\n",
              "\n",
              "        async function convertToInteractive(key) {\n",
              "          const element = document.querySelector('#df-4becc3ae-2e27-481f-a94a-cec4bbd82eef');\n",
              "          const dataTable =\n",
              "            await google.colab.kernel.invokeFunction('convertToInteractive',\n",
              "                                                     [key], {});\n",
              "          if (!dataTable) return;\n",
              "\n",
              "          const docLinkHtml = 'Like what you see? Visit the ' +\n",
              "            '<a target=\"_blank\" href=https://colab.research.google.com/notebooks/data_table.ipynb>data table notebook</a>'\n",
              "            + ' to learn more about interactive tables.';\n",
              "          element.innerHTML = '';\n",
              "          dataTable['output_type'] = 'display_data';\n",
              "          await google.colab.output.renderOutput(dataTable, element);\n",
              "          const docLink = document.createElement('div');\n",
              "          docLink.innerHTML = docLinkHtml;\n",
              "          element.appendChild(docLink);\n",
              "        }\n",
              "      </script>\n",
              "    </div>\n",
              "  </div>\n",
              "  "
            ]
          },
          "metadata": {},
          "execution_count": 54
        }
      ]
    },
    {
      "cell_type": "code",
      "source": [
        "output.to_csv('Mectrics_output.csv')"
      ],
      "metadata": {
        "id": "N5Yn475n-dMe"
      },
      "execution_count": 55,
      "outputs": []
    },
    {
      "cell_type": "code",
      "source": [
        ""
      ],
      "metadata": {
        "id": "cMcJ9BulDNl9"
      },
      "execution_count": 55,
      "outputs": []
    }
  ]
}